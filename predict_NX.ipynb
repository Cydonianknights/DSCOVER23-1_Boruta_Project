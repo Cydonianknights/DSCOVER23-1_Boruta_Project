{
 "cells": [
  {
   "cell_type": "code",
   "execution_count": 1,
   "id": "7647bd0d",
   "metadata": {},
   "outputs": [],
   "source": [
    "import pandas as pd\n",
    "import numpy as np\n",
    "\n",
    "from sklearn.metrics import make_scorer\n",
    "from sklearn.preprocessing import StandardScaler\n",
    "from sklearn.linear_model import LinearRegression\n",
    "from sklearn.ensemble import RandomForestClassifier\n",
    "from sklearn.ensemble import RandomForestRegressor\n",
    "from xgboost import XGBRegressor\n",
    "from boruta import BorutaPy\n",
    "\n",
    "from sklearn.metrics import r2_score\n",
    "\n",
    "import plotly.express as px\n",
    "import plotly.graph_objects as go"
   ]
  },
  {
   "cell_type": "code",
   "execution_count": 2,
   "id": "bea84770",
   "metadata": {},
   "outputs": [
    {
     "data": {
      "text/html": [
       "<div>\n",
       "<style scoped>\n",
       "    .dataframe tbody tr th:only-of-type {\n",
       "        vertical-align: middle;\n",
       "    }\n",
       "\n",
       "    .dataframe tbody tr th {\n",
       "        vertical-align: top;\n",
       "    }\n",
       "\n",
       "    .dataframe thead th {\n",
       "        text-align: right;\n",
       "    }\n",
       "</style>\n",
       "<table border=\"1\" class=\"dataframe\">\n",
       "  <thead>\n",
       "    <tr style=\"text-align: right;\">\n",
       "      <th></th>\n",
       "      <th>OIL_D(t-4)</th>\n",
       "      <th>OIL_B(t-4)</th>\n",
       "      <th>BEAN(t-4)</th>\n",
       "      <th>GOLD(t-4)</th>\n",
       "      <th>NIKEL(t-4)</th>\n",
       "      <th>ZINC(t-4)</th>\n",
       "      <th>CORN(t-4)</th>\n",
       "      <th>WHEAT(t-4)</th>\n",
       "      <th>COPP(t-4)</th>\n",
       "      <th>ALMN(t-4)</th>\n",
       "      <th>...</th>\n",
       "      <th>Employ(t=0)</th>\n",
       "      <th>CLI_OECD(t=0)</th>\n",
       "      <th>Sprate(t=0)</th>\n",
       "      <th>EFFR_US(t=0)</th>\n",
       "      <th>KRWUSD(t=0)</th>\n",
       "      <th>KRWJPY(t=0)</th>\n",
       "      <th>KRWEUR(t=0)</th>\n",
       "      <th>JPYUSD(t=0)</th>\n",
       "      <th>USDEUR(t=0)</th>\n",
       "      <th>ln_amount(t=0)</th>\n",
       "    </tr>\n",
       "  </thead>\n",
       "  <tbody>\n",
       "    <tr>\n",
       "      <th>0</th>\n",
       "      <td>-1.342275</td>\n",
       "      <td>-1.309657</td>\n",
       "      <td>-1.359974</td>\n",
       "      <td>-1.472582</td>\n",
       "      <td>-0.943449</td>\n",
       "      <td>-1.126503</td>\n",
       "      <td>-1.091638</td>\n",
       "      <td>-1.429193</td>\n",
       "      <td>-1.575211</td>\n",
       "      <td>-0.529093</td>\n",
       "      <td>...</td>\n",
       "      <td>NaN</td>\n",
       "      <td>NaN</td>\n",
       "      <td>NaN</td>\n",
       "      <td>NaN</td>\n",
       "      <td>NaN</td>\n",
       "      <td>NaN</td>\n",
       "      <td>NaN</td>\n",
       "      <td>NaN</td>\n",
       "      <td>NaN</td>\n",
       "      <td>NaN</td>\n",
       "    </tr>\n",
       "    <tr>\n",
       "      <th>1</th>\n",
       "      <td>-1.296990</td>\n",
       "      <td>-1.238007</td>\n",
       "      <td>-1.379677</td>\n",
       "      <td>-1.455909</td>\n",
       "      <td>-0.805464</td>\n",
       "      <td>-1.184781</td>\n",
       "      <td>-1.121899</td>\n",
       "      <td>-1.478494</td>\n",
       "      <td>-1.629184</td>\n",
       "      <td>-0.877474</td>\n",
       "      <td>...</td>\n",
       "      <td>NaN</td>\n",
       "      <td>NaN</td>\n",
       "      <td>NaN</td>\n",
       "      <td>NaN</td>\n",
       "      <td>NaN</td>\n",
       "      <td>NaN</td>\n",
       "      <td>NaN</td>\n",
       "      <td>NaN</td>\n",
       "      <td>NaN</td>\n",
       "      <td>NaN</td>\n",
       "    </tr>\n",
       "    <tr>\n",
       "      <th>2</th>\n",
       "      <td>-1.350851</td>\n",
       "      <td>-1.404290</td>\n",
       "      <td>-1.250515</td>\n",
       "      <td>-1.481053</td>\n",
       "      <td>-0.760883</td>\n",
       "      <td>-1.142001</td>\n",
       "      <td>-0.994800</td>\n",
       "      <td>-1.397215</td>\n",
       "      <td>-1.614281</td>\n",
       "      <td>-0.978263</td>\n",
       "      <td>...</td>\n",
       "      <td>NaN</td>\n",
       "      <td>NaN</td>\n",
       "      <td>NaN</td>\n",
       "      <td>NaN</td>\n",
       "      <td>NaN</td>\n",
       "      <td>NaN</td>\n",
       "      <td>NaN</td>\n",
       "      <td>NaN</td>\n",
       "      <td>NaN</td>\n",
       "      <td>NaN</td>\n",
       "    </tr>\n",
       "    <tr>\n",
       "      <th>3</th>\n",
       "      <td>-1.382757</td>\n",
       "      <td>-1.427610</td>\n",
       "      <td>-1.305974</td>\n",
       "      <td>-1.491651</td>\n",
       "      <td>-0.772446</td>\n",
       "      <td>-1.078325</td>\n",
       "      <td>-1.068941</td>\n",
       "      <td>-1.503810</td>\n",
       "      <td>-1.617100</td>\n",
       "      <td>-1.116301</td>\n",
       "      <td>...</td>\n",
       "      <td>NaN</td>\n",
       "      <td>NaN</td>\n",
       "      <td>NaN</td>\n",
       "      <td>NaN</td>\n",
       "      <td>NaN</td>\n",
       "      <td>NaN</td>\n",
       "      <td>NaN</td>\n",
       "      <td>NaN</td>\n",
       "      <td>NaN</td>\n",
       "      <td>NaN</td>\n",
       "    </tr>\n",
       "    <tr>\n",
       "      <th>4</th>\n",
       "      <td>-1.289442</td>\n",
       "      <td>-1.238345</td>\n",
       "      <td>-1.332245</td>\n",
       "      <td>-1.494430</td>\n",
       "      <td>-0.898353</td>\n",
       "      <td>-1.126213</td>\n",
       "      <td>-1.061376</td>\n",
       "      <td>-1.330592</td>\n",
       "      <td>-1.610253</td>\n",
       "      <td>-1.151358</td>\n",
       "      <td>...</td>\n",
       "      <td>-1.926718</td>\n",
       "      <td>0.633035</td>\n",
       "      <td>-0.309988</td>\n",
       "      <td>1.256379</td>\n",
       "      <td>-0.056832</td>\n",
       "      <td>0.023550</td>\n",
       "      <td>-1.273599</td>\n",
       "      <td>-0.196298</td>\n",
       "      <td>-1.158479</td>\n",
       "      <td>17.024621</td>\n",
       "    </tr>\n",
       "    <tr>\n",
       "      <th>...</th>\n",
       "      <td>...</td>\n",
       "      <td>...</td>\n",
       "      <td>...</td>\n",
       "      <td>...</td>\n",
       "      <td>...</td>\n",
       "      <td>...</td>\n",
       "      <td>...</td>\n",
       "      <td>...</td>\n",
       "      <td>...</td>\n",
       "      <td>...</td>\n",
       "      <td>...</td>\n",
       "      <td>...</td>\n",
       "      <td>...</td>\n",
       "      <td>...</td>\n",
       "      <td>...</td>\n",
       "      <td>...</td>\n",
       "      <td>...</td>\n",
       "      <td>...</td>\n",
       "      <td>...</td>\n",
       "      <td>...</td>\n",
       "      <td>...</td>\n",
       "    </tr>\n",
       "    <tr>\n",
       "      <th>272</th>\n",
       "      <td>0.926429</td>\n",
       "      <td>0.692164</td>\n",
       "      <td>1.140805</td>\n",
       "      <td>1.166659</td>\n",
       "      <td>0.633347</td>\n",
       "      <td>1.074024</td>\n",
       "      <td>1.677318</td>\n",
       "      <td>2.116453</td>\n",
       "      <td>0.781874</td>\n",
       "      <td>0.400471</td>\n",
       "      <td>...</td>\n",
       "      <td>1.736347</td>\n",
       "      <td>0.881747</td>\n",
       "      <td>-0.421964</td>\n",
       "      <td>-0.479027</td>\n",
       "      <td>1.288336</td>\n",
       "      <td>-0.503399</td>\n",
       "      <td>-0.067939</td>\n",
       "      <td>1.549865</td>\n",
       "      <td>-0.886104</td>\n",
       "      <td>18.641900</td>\n",
       "    </tr>\n",
       "    <tr>\n",
       "      <th>273</th>\n",
       "      <td>0.924371</td>\n",
       "      <td>0.932464</td>\n",
       "      <td>1.264129</td>\n",
       "      <td>1.114799</td>\n",
       "      <td>0.722381</td>\n",
       "      <td>0.750417</td>\n",
       "      <td>1.762051</td>\n",
       "      <td>1.907259</td>\n",
       "      <td>0.717026</td>\n",
       "      <td>0.536318</td>\n",
       "      <td>...</td>\n",
       "      <td>1.717978</td>\n",
       "      <td>0.619501</td>\n",
       "      <td>-0.277624</td>\n",
       "      <td>-0.248867</td>\n",
       "      <td>1.360726</td>\n",
       "      <td>-0.705525</td>\n",
       "      <td>-0.027672</td>\n",
       "      <td>1.949838</td>\n",
       "      <td>-0.892520</td>\n",
       "      <td>18.584752</td>\n",
       "    </tr>\n",
       "    <tr>\n",
       "      <th>274</th>\n",
       "      <td>0.587135</td>\n",
       "      <td>0.706021</td>\n",
       "      <td>1.446562</td>\n",
       "      <td>1.373468</td>\n",
       "      <td>1.388790</td>\n",
       "      <td>1.115817</td>\n",
       "      <td>1.583507</td>\n",
       "      <td>1.316984</td>\n",
       "      <td>1.000988</td>\n",
       "      <td>1.041909</td>\n",
       "      <td>...</td>\n",
       "      <td>1.728900</td>\n",
       "      <td>0.323069</td>\n",
       "      <td>-0.114919</td>\n",
       "      <td>0.002122</td>\n",
       "      <td>1.651932</td>\n",
       "      <td>-0.678358</td>\n",
       "      <td>-0.126643</td>\n",
       "      <td>2.134845</td>\n",
       "      <td>-1.122938</td>\n",
       "      <td>18.647829</td>\n",
       "    </tr>\n",
       "    <tr>\n",
       "      <th>275</th>\n",
       "      <td>0.533960</td>\n",
       "      <td>0.652283</td>\n",
       "      <td>1.591778</td>\n",
       "      <td>1.479814</td>\n",
       "      <td>1.773450</td>\n",
       "      <td>1.061254</td>\n",
       "      <td>1.683371</td>\n",
       "      <td>1.426245</td>\n",
       "      <td>1.056572</td>\n",
       "      <td>0.827205</td>\n",
       "      <td>...</td>\n",
       "      <td>1.742305</td>\n",
       "      <td>0.047201</td>\n",
       "      <td>-0.407316</td>\n",
       "      <td>0.364893</td>\n",
       "      <td>1.758918</td>\n",
       "      <td>-0.564481</td>\n",
       "      <td>-0.116653</td>\n",
       "      <td>2.019247</td>\n",
       "      <td>-1.168292</td>\n",
       "      <td>18.624712</td>\n",
       "    </tr>\n",
       "    <tr>\n",
       "      <th>276</th>\n",
       "      <td>0.556602</td>\n",
       "      <td>0.665464</td>\n",
       "      <td>1.646507</td>\n",
       "      <td>1.679781</td>\n",
       "      <td>1.807753</td>\n",
       "      <td>1.543629</td>\n",
       "      <td>1.690936</td>\n",
       "      <td>1.262353</td>\n",
       "      <td>1.392896</td>\n",
       "      <td>1.404532</td>\n",
       "      <td>...</td>\n",
       "      <td>1.734362</td>\n",
       "      <td>-0.191000</td>\n",
       "      <td>-0.234030</td>\n",
       "      <td>0.499153</td>\n",
       "      <td>2.467793</td>\n",
       "      <td>-0.576141</td>\n",
       "      <td>0.145790</td>\n",
       "      <td>2.594701</td>\n",
       "      <td>-1.310267</td>\n",
       "      <td>18.587797</td>\n",
       "    </tr>\n",
       "  </tbody>\n",
       "</table>\n",
       "<p>277 rows × 245 columns</p>\n",
       "</div>"
      ],
      "text/plain": [
       "     OIL_D(t-4)  OIL_B(t-4)  BEAN(t-4)  GOLD(t-4)  NIKEL(t-4)  ZINC(t-4)  \\\n",
       "0     -1.342275   -1.309657  -1.359974  -1.472582   -0.943449  -1.126503   \n",
       "1     -1.296990   -1.238007  -1.379677  -1.455909   -0.805464  -1.184781   \n",
       "2     -1.350851   -1.404290  -1.250515  -1.481053   -0.760883  -1.142001   \n",
       "3     -1.382757   -1.427610  -1.305974  -1.491651   -0.772446  -1.078325   \n",
       "4     -1.289442   -1.238345  -1.332245  -1.494430   -0.898353  -1.126213   \n",
       "..          ...         ...        ...        ...         ...        ...   \n",
       "272    0.926429    0.692164   1.140805   1.166659    0.633347   1.074024   \n",
       "273    0.924371    0.932464   1.264129   1.114799    0.722381   0.750417   \n",
       "274    0.587135    0.706021   1.446562   1.373468    1.388790   1.115817   \n",
       "275    0.533960    0.652283   1.591778   1.479814    1.773450   1.061254   \n",
       "276    0.556602    0.665464   1.646507   1.679781    1.807753   1.543629   \n",
       "\n",
       "     CORN(t-4)  WHEAT(t-4)  COPP(t-4)  ALMN(t-4)  ...  Employ(t=0)  \\\n",
       "0    -1.091638   -1.429193  -1.575211  -0.529093  ...          NaN   \n",
       "1    -1.121899   -1.478494  -1.629184  -0.877474  ...          NaN   \n",
       "2    -0.994800   -1.397215  -1.614281  -0.978263  ...          NaN   \n",
       "3    -1.068941   -1.503810  -1.617100  -1.116301  ...          NaN   \n",
       "4    -1.061376   -1.330592  -1.610253  -1.151358  ...    -1.926718   \n",
       "..         ...         ...        ...        ...  ...          ...   \n",
       "272   1.677318    2.116453   0.781874   0.400471  ...     1.736347   \n",
       "273   1.762051    1.907259   0.717026   0.536318  ...     1.717978   \n",
       "274   1.583507    1.316984   1.000988   1.041909  ...     1.728900   \n",
       "275   1.683371    1.426245   1.056572   0.827205  ...     1.742305   \n",
       "276   1.690936    1.262353   1.392896   1.404532  ...     1.734362   \n",
       "\n",
       "     CLI_OECD(t=0)  Sprate(t=0)  EFFR_US(t=0)  KRWUSD(t=0)  KRWJPY(t=0)  \\\n",
       "0              NaN          NaN           NaN          NaN          NaN   \n",
       "1              NaN          NaN           NaN          NaN          NaN   \n",
       "2              NaN          NaN           NaN          NaN          NaN   \n",
       "3              NaN          NaN           NaN          NaN          NaN   \n",
       "4         0.633035    -0.309988      1.256379    -0.056832     0.023550   \n",
       "..             ...          ...           ...          ...          ...   \n",
       "272       0.881747    -0.421964     -0.479027     1.288336    -0.503399   \n",
       "273       0.619501    -0.277624     -0.248867     1.360726    -0.705525   \n",
       "274       0.323069    -0.114919      0.002122     1.651932    -0.678358   \n",
       "275       0.047201    -0.407316      0.364893     1.758918    -0.564481   \n",
       "276      -0.191000    -0.234030      0.499153     2.467793    -0.576141   \n",
       "\n",
       "     KRWEUR(t=0)  JPYUSD(t=0)  USDEUR(t=0)  ln_amount(t=0)  \n",
       "0            NaN          NaN          NaN             NaN  \n",
       "1            NaN          NaN          NaN             NaN  \n",
       "2            NaN          NaN          NaN             NaN  \n",
       "3            NaN          NaN          NaN             NaN  \n",
       "4      -1.273599    -0.196298    -1.158479       17.024621  \n",
       "..           ...          ...          ...             ...  \n",
       "272    -0.067939     1.549865    -0.886104       18.641900  \n",
       "273    -0.027672     1.949838    -0.892520       18.584752  \n",
       "274    -0.126643     2.134845    -1.122938       18.647829  \n",
       "275    -0.116653     2.019247    -1.168292       18.624712  \n",
       "276     0.145790     2.594701    -1.310267       18.587797  \n",
       "\n",
       "[277 rows x 245 columns]"
      ]
     },
     "execution_count": 2,
     "metadata": {},
     "output_type": "execute_result"
    }
   ],
   "source": [
    "lagdf = pd.read_csv(\"df_all_lag.csv\")\n",
    "lagdf.drop(['Unnamed: 0'], axis=1, inplace=True)\n",
    "lagdf"
   ]
  },
  {
   "cell_type": "code",
   "execution_count": 3,
   "id": "321f4be9",
   "metadata": {},
   "outputs": [
    {
     "data": {
      "text/plain": [
       "4      17.024621\n",
       "5      17.022301\n",
       "6      17.170375\n",
       "7      17.106393\n",
       "8      17.144858\n",
       "         ...    \n",
       "272    18.641900\n",
       "273    18.584752\n",
       "274    18.647829\n",
       "275    18.624712\n",
       "276    18.587797\n",
       "Name: ln_amount(t=0), Length: 273, dtype: float64"
      ]
     },
     "execution_count": 3,
     "metadata": {},
     "output_type": "execute_result"
    }
   ],
   "source": [
    "lag_ln0 = lagdf['ln_amount(t=0)']\n",
    "lag_ln0 = lag_ln0.drop(index=[0,1,2,3])\n",
    "lag_ln0"
   ]
  },
  {
   "cell_type": "code",
   "execution_count": 4,
   "id": "06c0bab6",
   "metadata": {},
   "outputs": [],
   "source": [
    "lagT4 = lagdf.iloc[:, 0:48]\n",
    "lagT4 = pd.concat([lagT4, lag_ln0], axis=1)"
   ]
  },
  {
   "cell_type": "code",
   "execution_count": 5,
   "id": "2524ad84",
   "metadata": {},
   "outputs": [],
   "source": [
    "def split_lagdf(df):\n",
    "    return df[:194], df[194:]"
   ]
  },
  {
   "cell_type": "code",
   "execution_count": 6,
   "id": "4741eab2",
   "metadata": {},
   "outputs": [],
   "source": [
    "df_train, df_test = split_lagdf(lagT4)"
   ]
  },
  {
   "cell_type": "code",
   "execution_count": 7,
   "id": "9869c5ba",
   "metadata": {
    "collapsed": true
   },
   "outputs": [
    {
     "name": "stderr",
     "output_type": "stream",
     "text": [
      "C:\\Users\\koojy\\AppData\\Local\\Temp\\ipykernel_18416\\3515249492.py:1: SettingWithCopyWarning: \n",
      "A value is trying to be set on a copy of a slice from a DataFrame\n",
      "\n",
      "See the caveats in the documentation: https://pandas.pydata.org/pandas-docs/stable/user_guide/indexing.html#returning-a-view-versus-a-copy\n",
      "  df_train.drop(df_train.index[0:4], inplace=True)\n",
      "C:\\Users\\koojy\\AppData\\Local\\Temp\\ipykernel_18416\\3515249492.py:2: SettingWithCopyWarning: \n",
      "A value is trying to be set on a copy of a slice from a DataFrame\n",
      "\n",
      "See the caveats in the documentation: https://pandas.pydata.org/pandas-docs/stable/user_guide/indexing.html#returning-a-view-versus-a-copy\n",
      "  df_test.drop(df_test.index[0:4], inplace=True)\n"
     ]
    }
   ],
   "source": [
    "df_train.drop(df_train.index[0:4], inplace=True)\n",
    "df_test.drop(df_test.index[0:4], inplace=True)"
   ]
  },
  {
   "cell_type": "code",
   "execution_count": 8,
   "id": "6eb74289",
   "metadata": {},
   "outputs": [],
   "source": [
    "def xy_tt(df_train, df_test):    \n",
    "    X_train = df_train\n",
    "    y_train = df_train['ln_amount(t=0)']\n",
    "    X_test = df_test\n",
    "    y_test= df_test['ln_amount(t=0)']\n",
    "    \n",
    "    return X_train, y_train, X_test, y_test"
   ]
  },
  {
   "cell_type": "code",
   "execution_count": 9,
   "id": "e40d4a5c",
   "metadata": {},
   "outputs": [],
   "source": [
    "X_train, y_train, X_test, y_test = xy_tt(df_train, df_test)"
   ]
  },
  {
   "cell_type": "code",
   "execution_count": 10,
   "id": "50a802f1",
   "metadata": {
    "collapsed": true
   },
   "outputs": [
    {
     "name": "stderr",
     "output_type": "stream",
     "text": [
      "C:\\Users\\koojy\\AppData\\Local\\Temp\\ipykernel_18416\\1366950026.py:1: SettingWithCopyWarning: \n",
      "A value is trying to be set on a copy of a slice from a DataFrame\n",
      "\n",
      "See the caveats in the documentation: https://pandas.pydata.org/pandas-docs/stable/user_guide/indexing.html#returning-a-view-versus-a-copy\n",
      "  X_train.drop(['ln_amount(t=0)'], axis=1, inplace=True)\n",
      "C:\\Users\\koojy\\AppData\\Local\\Temp\\ipykernel_18416\\1366950026.py:2: SettingWithCopyWarning: \n",
      "A value is trying to be set on a copy of a slice from a DataFrame\n",
      "\n",
      "See the caveats in the documentation: https://pandas.pydata.org/pandas-docs/stable/user_guide/indexing.html#returning-a-view-versus-a-copy\n",
      "  X_test.drop(['ln_amount(t=0)'], axis=1, inplace=True)\n"
     ]
    }
   ],
   "source": [
    "X_train.drop(['ln_amount(t=0)'], axis=1, inplace=True)\n",
    "X_test.drop(['ln_amount(t=0)'], axis=1, inplace=True)"
   ]
  },
  {
   "cell_type": "code",
   "execution_count": 11,
   "id": "2c794f1f",
   "metadata": {},
   "outputs": [
    {
     "name": "stdout",
     "output_type": "stream",
     "text": [
      "Iteration: \t1 / 10\n",
      "Confirmed: \t0\n",
      "Tentative: \t48\n",
      "Rejected: \t0\n",
      "Iteration: \t2 / 10\n",
      "Confirmed: \t0\n",
      "Tentative: \t48\n",
      "Rejected: \t0\n",
      "Iteration: \t3 / 10\n",
      "Confirmed: \t0\n",
      "Tentative: \t48\n",
      "Rejected: \t0\n",
      "Iteration: \t4 / 10\n",
      "Confirmed: \t0\n",
      "Tentative: \t48\n",
      "Rejected: \t0\n",
      "Iteration: \t5 / 10\n",
      "Confirmed: \t0\n",
      "Tentative: \t48\n",
      "Rejected: \t0\n",
      "Iteration: \t6 / 10\n",
      "Confirmed: \t0\n",
      "Tentative: \t48\n",
      "Rejected: \t0\n",
      "Iteration: \t7 / 10\n",
      "Confirmed: \t0\n",
      "Tentative: \t48\n",
      "Rejected: \t0\n",
      "Iteration: \t8 / 10\n",
      "Confirmed: \t24\n",
      "Tentative: \t13\n",
      "Rejected: \t11\n",
      "Iteration: \t9 / 10\n",
      "Confirmed: \t24\n",
      "Tentative: \t13\n",
      "Rejected: \t11\n",
      "\n",
      "\n",
      "BorutaPy finished running.\n",
      "\n",
      "Iteration: \t10 / 10\n",
      "Confirmed: \t24\n",
      "Tentative: \t4\n",
      "Rejected: \t11\n",
      "\n",
      "------Support and Ranking for each feature------\n",
      "Passes the test:  OIL_D(t-4)  - Ranking:  1\n",
      "Passes the test:  OIL_B(t-4)  - Ranking:  1\n",
      "Doesn't pass the test:  BEAN(t-4)  - Ranking:  13\n",
      "Passes the test:  GOLD(t-4)  - Ranking:  1\n",
      "Passes the test:  NIKEL(t-4)  - Ranking:  1\n",
      "Doesn't pass the test:  ZINC(t-4)  - Ranking:  2\n",
      "Doesn't pass the test:  CORN(t-4)  - Ranking:  5\n",
      "Passes the test:  WHEAT(t-4)  - Ranking:  1\n",
      "Passes the test:  COPP(t-4)  - Ranking:  1\n",
      "Passes the test:  ALMN(t-4)  - Ranking:  1\n",
      "Passes the test:  COTT(t-4)  - Ranking:  1\n",
      "Doesn't pass the test:  KOSPI(t-4)  - Ranking:  2\n",
      "Doesn't pass the test:  DJONES(t-4)  - Ranking:  21\n",
      "Doesn't pass the test:  NASDAQ(t-4)  - Ranking:  18\n",
      "Doesn't pass the test:  ESTOXX(t-4)  - Ranking:  16\n",
      "Doesn't pass the test:  DAX(t-4)  - Ranking:  20\n",
      "Doesn't pass the test:  NIKKEI(t-4)  - Ranking:  17\n",
      "Passes the test:  STI(t-4)  - Ranking:  1\n",
      "Doesn't pass the test:  HSI(t-4)  - Ranking:  11\n",
      "Passes the test:  SHCOMP(t-4)  - Ranking:  1\n",
      "Passes the test:  OIL_W(t-4)  - Ranking:  1\n",
      "Doesn't pass the test:  EX_INDEX_P(t-4)  - Ranking:  15\n",
      "Doesn't pass the test:  IM_INDEX_P(t-4)  - Ranking:  7\n",
      "Passes the test:  PPI_US(t-4)  - Ranking:  1\n",
      "Passes the test:  PPI_KR(t-4)  - Ranking:  1\n",
      "Doesn't pass the test:  PPI_JP(t-4)  - Ranking:  5\n",
      "Passes the test:  IIP_JP(t-4)  - Ranking:  1\n",
      "Passes the test:  IIP_RU(t-4)  - Ranking:  1\n",
      "Doesn't pass the test:  IIP_US(t-4)  - Ranking:  8\n",
      "Doesn't pass the test:  VIX(t-4)  - Ranking:  2\n",
      "Passes the test:  IIP(t-4)  - Ranking:  1\n",
      "Doesn't pass the test:  OPER_IDX(t-4)  - Ranking:  18\n",
      "Passes the test:  SHIP_IDX(t-4)  - Ranking:  1\n",
      "Passes the test:  STOCK_IDX(t-4)  - Ranking:  1\n",
      "Doesn't pass the test:  PANTIV_IDF(t-4)  - Ranking:  14\n",
      "Passes the test:  CLI(t-4)  - Ranking:  1\n",
      "Passes the test:  CCI(t-4)  - Ranking:  1\n",
      "Passes the test:  LCI(t-4)  - Ranking:  1\n",
      "Doesn't pass the test:  Energy(t-4)  - Ranking:  22\n",
      "Passes the test:  Employ(t-4)  - Ranking:  1\n",
      "Doesn't pass the test:  CLI_OECD(t-4)  - Ranking:  10\n",
      "Passes the test:  Sprate(t-4)  - Ranking:  1\n",
      "Passes the test:  EFFR_US(t-4)  - Ranking:  1\n",
      "Doesn't pass the test:  KRWUSD(t-4)  - Ranking:  12\n",
      "Doesn't pass the test:  KRWJPY(t-4)  - Ranking:  3\n",
      "Doesn't pass the test:  KRWEUR(t-4)  - Ranking:  8\n",
      "Doesn't pass the test:  JPYUSD(t-4)  - Ranking:  5\n",
      "Doesn't pass the test:  USDEUR(t-4)  - Ranking:  2\n"
     ]
    }
   ],
   "source": [
    "model = RandomForestRegressor(n_estimators='auto', max_depth=5, random_state=42)\n",
    "\n",
    "# initialize Boruta\n",
    "feat_selector = BorutaPy(verbose=2, estimator=model, n_estimators='auto',\n",
    "                        max_iter=10)\n",
    "\n",
    "feat_selector.fit(np.array(X_train), np.array(y_train))\n",
    "\n",
    "print(\"\\n------Support and Ranking for each feature------\")\n",
    "for i in range(len(feat_selector.support_)):\n",
    "    if feat_selector.support_[i]:\n",
    "        print(\"Passes the test: \", X_train.columns[i],\n",
    "              \" - Ranking: \", feat_selector.ranking_[i])\n",
    "    else:\n",
    "        print(\"Doesn't pass the test: \",\n",
    "              X_train.columns[i], \" - Ranking: \", feat_selector.ranking_[i])"
   ]
  },
  {
   "cell_type": "code",
   "execution_count": 24,
   "id": "5d22a886",
   "metadata": {},
   "outputs": [],
   "source": [
    "accept = X_train.columns[feat_selector.support_].to_list()\n",
    "X_test = X_test[accept]"
   ]
  },
  {
   "cell_type": "code",
   "execution_count": 25,
   "id": "8d438cc4",
   "metadata": {},
   "outputs": [
    {
     "data": {
      "text/html": [
       "<div>\n",
       "<style scoped>\n",
       "    .dataframe tbody tr th:only-of-type {\n",
       "        vertical-align: middle;\n",
       "    }\n",
       "\n",
       "    .dataframe tbody tr th {\n",
       "        vertical-align: top;\n",
       "    }\n",
       "\n",
       "    .dataframe thead th {\n",
       "        text-align: right;\n",
       "    }\n",
       "</style>\n",
       "<table border=\"1\" class=\"dataframe\">\n",
       "  <thead>\n",
       "    <tr style=\"text-align: right;\">\n",
       "      <th></th>\n",
       "      <th>pred</th>\n",
       "      <th>observed</th>\n",
       "    </tr>\n",
       "  </thead>\n",
       "  <tbody>\n",
       "    <tr>\n",
       "      <th>198</th>\n",
       "      <td>18.150417</td>\n",
       "      <td>18.150798</td>\n",
       "    </tr>\n",
       "    <tr>\n",
       "      <th>199</th>\n",
       "      <td>18.112312</td>\n",
       "      <td>18.112392</td>\n",
       "    </tr>\n",
       "    <tr>\n",
       "      <th>200</th>\n",
       "      <td>18.103426</td>\n",
       "      <td>18.102666</td>\n",
       "    </tr>\n",
       "    <tr>\n",
       "      <th>201</th>\n",
       "      <td>18.185568</td>\n",
       "      <td>18.186215</td>\n",
       "    </tr>\n",
       "    <tr>\n",
       "      <th>202</th>\n",
       "      <td>18.122990</td>\n",
       "      <td>18.122995</td>\n",
       "    </tr>\n",
       "    <tr>\n",
       "      <th>...</th>\n",
       "      <td>...</td>\n",
       "      <td>...</td>\n",
       "    </tr>\n",
       "    <tr>\n",
       "      <th>272</th>\n",
       "      <td>18.642084</td>\n",
       "      <td>18.641900</td>\n",
       "    </tr>\n",
       "    <tr>\n",
       "      <th>273</th>\n",
       "      <td>18.585094</td>\n",
       "      <td>18.584752</td>\n",
       "    </tr>\n",
       "    <tr>\n",
       "      <th>274</th>\n",
       "      <td>18.647482</td>\n",
       "      <td>18.647829</td>\n",
       "    </tr>\n",
       "    <tr>\n",
       "      <th>275</th>\n",
       "      <td>18.624588</td>\n",
       "      <td>18.624712</td>\n",
       "    </tr>\n",
       "    <tr>\n",
       "      <th>276</th>\n",
       "      <td>18.588106</td>\n",
       "      <td>18.587797</td>\n",
       "    </tr>\n",
       "  </tbody>\n",
       "</table>\n",
       "<p>79 rows × 2 columns</p>\n",
       "</div>"
      ],
      "text/plain": [
       "          pred   observed\n",
       "198  18.150417  18.150798\n",
       "199  18.112312  18.112392\n",
       "200  18.103426  18.102666\n",
       "201  18.185568  18.186215\n",
       "202  18.122990  18.122995\n",
       "..         ...        ...\n",
       "272  18.642084  18.641900\n",
       "273  18.585094  18.584752\n",
       "274  18.647482  18.647829\n",
       "275  18.624588  18.624712\n",
       "276  18.588106  18.587797\n",
       "\n",
       "[79 rows x 2 columns]"
      ]
     },
     "execution_count": 25,
     "metadata": {},
     "output_type": "execute_result"
    }
   ],
   "source": [
    "ln_XG = XGBRegressor()\n",
    "\n",
    "ln_XG.fit(X_test, y_test)\n",
    "\n",
    "predictions_XG = ln_XG.predict(X_test)\n",
    "\n",
    "df_boruta = pd.DataFrame({'pred': predictions_XG, 'observed': y_test})\n",
    "df_boruta"
   ]
  },
  {
   "cell_type": "code",
   "execution_count": 26,
   "id": "66f403ef",
   "metadata": {},
   "outputs": [],
   "source": [
    "df_est = lag_ln0.loc[:194] #train만큼 사용한 부분 \n",
    "ml_pred = pd.DataFrame(predictions_XG)    # XG Boost 사용한 predictions\n",
    "df_est_1 = pd.concat([df_est,ml_pred], axis=0, ignore_index=True) #train과 test합치기\n",
    "df_est_1.columns = ['estimation']"
   ]
  },
  {
   "cell_type": "code",
   "execution_count": 27,
   "id": "88e03b47",
   "metadata": {},
   "outputs": [
    {
     "name": "stdout",
     "output_type": "stream",
     "text": [
      "r^2:  99.99837136866904\n",
      "MAE:  0.0004629086063154285\n"
     ]
    }
   ],
   "source": [
    "R2 = r2_score(df_boruta['pred'], df_boruta['observed'])\n",
    "print(\"r^2: \", R2*100)\n",
    "\n",
    "MAE = np.abs(np.subtract(df_boruta['pred'], df_boruta['observed'])).mean()\n",
    "print('MAE: ', MAE)"
   ]
  },
  {
   "cell_type": "code",
   "execution_count": 28,
   "id": "06a699a4",
   "metadata": {},
   "outputs": [
    {
     "data": {
      "application/vnd.plotly.v1+json": {
       "config": {
        "plotlyServerURL": "https://plot.ly"
       },
       "data": [
        {
         "hovertemplate": "index=%{x}<br>estimation=%{y}<extra></extra>",
         "legendgroup": "",
         "line": {
          "color": "#636efa",
          "dash": "solid"
         },
         "marker": {
          "symbol": "circle"
         },
         "mode": "lines",
         "name": "",
         "orientation": "v",
         "showlegend": false,
         "type": "scatter",
         "x": [
          0,
          1,
          2,
          3,
          4,
          5,
          6,
          7,
          8,
          9,
          10,
          11,
          12,
          13,
          14,
          15,
          16,
          17,
          18,
          19,
          20,
          21,
          22,
          23,
          24,
          25,
          26,
          27,
          28,
          29,
          30,
          31,
          32,
          33,
          34,
          35,
          36,
          37,
          38,
          39,
          40,
          41,
          42,
          43,
          44,
          45,
          46,
          47,
          48,
          49,
          50,
          51,
          52,
          53,
          54,
          55,
          56,
          57,
          58,
          59,
          60,
          61,
          62,
          63,
          64,
          65,
          66,
          67,
          68,
          69,
          70,
          71,
          72,
          73,
          74,
          75,
          76,
          77,
          78,
          79,
          80,
          81,
          82,
          83,
          84,
          85,
          86,
          87,
          88,
          89,
          90,
          91,
          92,
          93,
          94,
          95,
          96,
          97,
          98,
          99,
          100,
          101,
          102,
          103,
          104,
          105,
          106,
          107,
          108,
          109,
          110,
          111,
          112,
          113,
          114,
          115,
          116,
          117,
          118,
          119,
          120,
          121,
          122,
          123,
          124,
          125,
          126,
          127,
          128,
          129,
          130,
          131,
          132,
          133,
          134,
          135,
          136,
          137,
          138,
          139,
          140,
          141,
          142,
          143,
          144,
          145,
          146,
          147,
          148,
          149,
          150,
          151,
          152,
          153,
          154,
          155,
          156,
          157,
          158,
          159,
          160,
          161,
          162,
          163,
          164,
          165,
          166,
          167,
          168,
          169,
          170,
          171,
          172,
          173,
          174,
          175,
          176,
          177,
          178,
          179,
          180,
          181,
          182,
          183,
          184,
          185,
          186,
          187,
          188,
          189,
          190,
          191,
          192,
          193,
          194,
          195,
          196,
          197,
          198,
          199,
          200,
          201,
          202,
          203,
          204,
          205,
          206,
          207,
          208,
          209,
          210,
          211,
          212,
          213,
          214,
          215,
          216,
          217,
          218,
          219,
          220,
          221,
          222,
          223,
          224,
          225,
          226,
          227,
          228,
          229,
          230,
          231,
          232,
          233,
          234,
          235,
          236,
          237,
          238,
          239,
          240,
          241,
          242,
          243,
          244,
          245,
          246,
          247,
          248,
          249,
          250,
          251,
          252,
          253,
          254,
          255,
          256,
          257,
          258,
          259,
          260,
          261,
          262,
          263,
          264,
          265,
          266,
          267,
          268,
          269
         ],
         "xaxis": "x",
         "y": [
          17.02462077411712,
          17.022301412857498,
          17.17037474463471,
          17.10639339522934,
          17.144857811495243,
          17.162900997443575,
          17.152259441103368,
          17.15582562419318,
          17.1627860003948,
          17.194880784355785,
          17.18794783767221,
          17.1531445873016,
          17.037419857193274,
          17.076922056964705,
          17.114186981199918,
          16.96539216848748,
          17.028842765339842,
          17.020324252907894,
          16.929017911587447,
          16.955517099760257,
          17.000084047405437,
          16.976456885902003,
          16.988624624409812,
          16.960370775643746,
          16.938241450719364,
          16.88329359621389,
          17.04399685395967,
          17.063721082294965,
          17.106568541797802,
          17.02749505206414,
          17.08989495643418,
          17.1046532531049,
          17.107351301949915,
          17.179411666882615,
          17.1893364687638,
          17.199157867422045,
          17.17640310302363,
          17.118559097964486,
          17.257500077700985,
          17.23255960219586,
          17.154823103239742,
          17.18571484394431,
          17.22763854892555,
          17.179927350946446,
          17.267164207138038,
          17.384093310433922,
          17.341954549685195,
          17.435928419080703,
          17.37644296933527,
          17.41570993449094,
          17.511736287002055,
          17.512192220535955,
          17.472115833787726,
          17.50941389621243,
          17.489121159177238,
          17.451077127058127,
          17.479699699485195,
          17.578372199535654,
          17.58570676166173,
          17.60343645335669,
          17.550892513923372,
          17.47387935997128,
          17.659947544681,
          17.60235564032919,
          17.606144857613284,
          17.622087999673667,
          17.61647564833405,
          17.629783900467263,
          17.67070599364106,
          17.686825791515176,
          17.721027323642787,
          17.723881743607794,
          17.651670790938393,
          17.671909557628418,
          17.781740497007736,
          17.729051271091212,
          17.80717384548826,
          17.803980935586207,
          17.753670303460275,
          17.81034147820046,
          17.863599832999878,
          17.79776312852512,
          17.86498724377946,
          17.846091001344153,
          17.83464046922283,
          17.75963819023193,
          17.90452929646436,
          17.902181385586942,
          17.92469181014991,
          17.91828956669361,
          17.90032056038844,
          17.920468333594577,
          17.850054105987056,
          18.02281238235768,
          18.06019880545417,
          18.019100943252685,
          18.043695288051584,
          17.971303308661025,
          18.10737089411322,
          18.14769873420024,
          18.173342164357177,
          18.13415185965679,
          18.245299614575707,
          18.159719145289085,
          18.158749273815896,
          18.108841406919225,
          17.870685631054453,
          17.798801931971035,
          17.6448522743895,
          17.686612480629755,
          17.763121783176725,
          17.826479924270238,
          17.75185287704712,
          17.87421656078588,
          17.90296856218437,
          17.8472315288443,
          17.969374331261417,
          17.980104863700877,
          17.966964504120675,
          18.048603795756883,
          17.947012969919722,
          17.97569791538862,
          18.104389216086705,
          18.1306409743156,
          18.11607629230464,
          18.16325390431721,
          18.14420667979269,
          18.088780903975017,
          18.125136673495,
          18.20179598608976,
          18.19666451196312,
          18.24872963569038,
          18.275038469764983,
          18.13125047763309,
          18.354743303449883,
          18.34515134512716,
          18.34397528895132,
          18.33252323768016,
          18.350754315408025,
          18.328277485953866,
          18.335018645367995,
          18.30777237030204,
          18.304406174987808,
          18.35060367064526,
          18.254834508636307,
          18.33093291355969,
          18.341455950862148,
          18.315897061894045,
          18.33023835321541,
          18.305900826917814,
          18.27732503322045,
          18.24824047800461,
          18.292529969802864,
          18.320502919364102,
          18.32842052129656,
          18.29221558199583,
          18.32604090042247,
          18.231821571442847,
          18.32954570908766,
          18.313164194612288,
          18.323039623615703,
          18.286124563555035,
          18.30654768402282,
          18.29176908675592,
          18.266432120995503,
          18.38074842646877,
          18.32649205703973,
          18.34090828809085,
          18.31871053027605,
          18.25784751800981,
          18.36541184150795,
          18.38132414396689,
          18.31736997058121,
          18.31869331082772,
          18.359533383656977,
          18.30302538889447,
          18.333279425490897,
          18.377022209420243,
          18.29226306540473,
          18.35209428629669,
          18.25094067526161,
          18.13925250213964,
          18.26178707055978,
          18.24728795480937,
          18.176914894753804,
          18.236191759984216,
          18.25040017067748,
          18.117946784744984,
          18.171870811088645,
          18.19897392254728,
          18.17650166413153,
          18.15041732788086,
          18.11231231689453,
          18.103425979614258,
          18.18556785583496,
          18.122989654541016,
          18.13656997680664,
          18.131515502929688,
          18.159839630126953,
          18.22818946838379,
          18.238636016845703,
          18.171550750732422,
          18.189836502075195,
          18.326932907104492,
          18.30211639404297,
          18.24954605102539,
          18.33499526977539,
          18.286863327026367,
          18.289426803588867,
          18.3872013092041,
          18.23091697692871,
          18.334226608276367,
          18.3437557220459,
          18.369009017944336,
          18.27391815185547,
          18.381881713867188,
          18.354108810424805,
          18.37088394165039,
          18.380525588989258,
          18.386627197265625,
          18.374897003173828,
          18.33427619934082,
          18.452482223510742,
          18.403657913208008,
          18.339868545532227,
          18.329898834228516,
          18.149349212646484,
          18.303815841674805,
          18.35611343383789,
          18.307987213134766,
          18.248567581176758,
          18.31295394897461,
          18.275318145751953,
          18.239133834838867,
          18.293750762939453,
          18.255712509155273,
          18.30788803100586,
          18.26798439025879,
          18.17128562927246,
          18.291847229003906,
          18.122541427612305,
          18.0566463470459,
          18.134075164794922,
          18.217275619506836,
          18.137353897094727,
          18.282987594604492,
          18.245454788208008,
          18.266599655151367,
          18.378726959228516,
          18.342182159423828,
          18.283615112304688,
          18.454538345336914,
          18.441505432128906,
          18.406620025634766,
          18.471656799316406,
          18.50834846496582,
          18.466896057128906,
          18.492687225341797,
          18.512468338012695,
          18.58367156982422,
          18.618022918701172,
          18.57004165649414,
          18.49454689025879,
          18.662689208984375,
          18.586462020874023,
          18.6420841217041,
          18.585094451904297,
          18.64748191833496,
          18.624588012695312,
          18.588106155395508
         ],
         "yaxis": "y"
        },
        {
         "mode": "lines",
         "name": "Original",
         "type": "scatter",
         "x": [
          4,
          5,
          6,
          7,
          8,
          9,
          10,
          11,
          12,
          13,
          14,
          15,
          16,
          17,
          18,
          19,
          20,
          21,
          22,
          23,
          24,
          25,
          26,
          27,
          28,
          29,
          30,
          31,
          32,
          33,
          34,
          35,
          36,
          37,
          38,
          39,
          40,
          41,
          42,
          43,
          44,
          45,
          46,
          47,
          48,
          49,
          50,
          51,
          52,
          53,
          54,
          55,
          56,
          57,
          58,
          59,
          60,
          61,
          62,
          63,
          64,
          65,
          66,
          67,
          68,
          69,
          70,
          71,
          72,
          73,
          74,
          75,
          76,
          77,
          78,
          79,
          80,
          81,
          82,
          83,
          84,
          85,
          86,
          87,
          88,
          89,
          90,
          91,
          92,
          93,
          94,
          95,
          96,
          97,
          98,
          99,
          100,
          101,
          102,
          103,
          104,
          105,
          106,
          107,
          108,
          109,
          110,
          111,
          112,
          113,
          114,
          115,
          116,
          117,
          118,
          119,
          120,
          121,
          122,
          123,
          124,
          125,
          126,
          127,
          128,
          129,
          130,
          131,
          132,
          133,
          134,
          135,
          136,
          137,
          138,
          139,
          140,
          141,
          142,
          143,
          144,
          145,
          146,
          147,
          148,
          149,
          150,
          151,
          152,
          153,
          154,
          155,
          156,
          157,
          158,
          159,
          160,
          161,
          162,
          163,
          164,
          165,
          166,
          167,
          168,
          169,
          170,
          171,
          172,
          173,
          174,
          175,
          176,
          177,
          178,
          179,
          180,
          181,
          182,
          183,
          184,
          185,
          186,
          187,
          188,
          189,
          190,
          191,
          192,
          193,
          194,
          195,
          196,
          197,
          198,
          199,
          200,
          201,
          202,
          203,
          204,
          205,
          206,
          207,
          208,
          209,
          210,
          211,
          212,
          213,
          214,
          215,
          216,
          217,
          218,
          219,
          220,
          221,
          222,
          223,
          224,
          225,
          226,
          227,
          228,
          229,
          230,
          231,
          232,
          233,
          234,
          235,
          236,
          237,
          238,
          239,
          240,
          241,
          242,
          243,
          244,
          245,
          246,
          247,
          248,
          249,
          250,
          251,
          252,
          253,
          254,
          255,
          256,
          257,
          258,
          259,
          260,
          261,
          262,
          263,
          264,
          265,
          266,
          267,
          268,
          269,
          270,
          271,
          272,
          273,
          274,
          275,
          276
         ],
         "y": [
          17.02462077411712,
          17.022301412857498,
          17.17037474463471,
          17.10639339522934,
          17.144857811495243,
          17.162900997443575,
          17.152259441103368,
          17.15582562419318,
          17.1627860003948,
          17.194880784355785,
          17.18794783767221,
          17.1531445873016,
          17.037419857193274,
          17.076922056964705,
          17.114186981199918,
          16.96539216848748,
          17.028842765339842,
          17.020324252907894,
          16.929017911587447,
          16.955517099760257,
          17.000084047405437,
          16.976456885902003,
          16.988624624409812,
          16.960370775643746,
          16.938241450719364,
          16.88329359621389,
          17.04399685395967,
          17.063721082294965,
          17.106568541797802,
          17.02749505206414,
          17.08989495643418,
          17.1046532531049,
          17.107351301949915,
          17.179411666882615,
          17.1893364687638,
          17.199157867422045,
          17.17640310302363,
          17.118559097964486,
          17.257500077700985,
          17.23255960219586,
          17.154823103239742,
          17.18571484394431,
          17.22763854892555,
          17.179927350946446,
          17.267164207138038,
          17.384093310433922,
          17.341954549685195,
          17.435928419080703,
          17.37644296933527,
          17.41570993449094,
          17.511736287002055,
          17.512192220535955,
          17.472115833787726,
          17.50941389621243,
          17.489121159177238,
          17.451077127058127,
          17.479699699485195,
          17.578372199535654,
          17.58570676166173,
          17.60343645335669,
          17.550892513923372,
          17.47387935997128,
          17.659947544681,
          17.60235564032919,
          17.606144857613284,
          17.622087999673667,
          17.61647564833405,
          17.629783900467263,
          17.67070599364106,
          17.686825791515176,
          17.721027323642787,
          17.723881743607794,
          17.651670790938393,
          17.671909557628418,
          17.781740497007736,
          17.729051271091212,
          17.80717384548826,
          17.803980935586207,
          17.753670303460275,
          17.81034147820046,
          17.863599832999878,
          17.79776312852512,
          17.86498724377946,
          17.846091001344153,
          17.83464046922283,
          17.75963819023193,
          17.90452929646436,
          17.902181385586942,
          17.92469181014991,
          17.91828956669361,
          17.90032056038844,
          17.920468333594577,
          17.850054105987056,
          18.02281238235768,
          18.06019880545417,
          18.019100943252685,
          18.043695288051584,
          17.971303308661025,
          18.10737089411322,
          18.14769873420024,
          18.173342164357177,
          18.13415185965679,
          18.245299614575707,
          18.159719145289085,
          18.158749273815896,
          18.108841406919225,
          17.870685631054453,
          17.798801931971035,
          17.6448522743895,
          17.686612480629755,
          17.763121783176725,
          17.826479924270238,
          17.75185287704712,
          17.87421656078588,
          17.90296856218437,
          17.8472315288443,
          17.969374331261417,
          17.980104863700877,
          17.966964504120675,
          18.048603795756883,
          17.947012969919722,
          17.97569791538862,
          18.104389216086705,
          18.1306409743156,
          18.11607629230464,
          18.16325390431721,
          18.14420667979269,
          18.088780903975017,
          18.125136673495,
          18.20179598608976,
          18.19666451196312,
          18.24872963569038,
          18.275038469764983,
          18.13125047763309,
          18.354743303449883,
          18.34515134512716,
          18.34397528895132,
          18.33252323768016,
          18.350754315408025,
          18.328277485953866,
          18.335018645367995,
          18.30777237030204,
          18.304406174987808,
          18.35060367064526,
          18.254834508636307,
          18.33093291355969,
          18.341455950862148,
          18.315897061894045,
          18.33023835321541,
          18.305900826917814,
          18.27732503322045,
          18.24824047800461,
          18.292529969802864,
          18.320502919364102,
          18.32842052129656,
          18.29221558199583,
          18.32604090042247,
          18.231821571442847,
          18.32954570908766,
          18.313164194612288,
          18.323039623615703,
          18.286124563555035,
          18.30654768402282,
          18.29176908675592,
          18.266432120995503,
          18.38074842646877,
          18.32649205703973,
          18.34090828809085,
          18.31871053027605,
          18.25784751800981,
          18.36541184150795,
          18.38132414396689,
          18.31736997058121,
          18.31869331082772,
          18.359533383656977,
          18.30302538889447,
          18.333279425490897,
          18.377022209420243,
          18.29226306540473,
          18.35209428629669,
          18.25094067526161,
          18.13925250213964,
          18.26178707055978,
          18.24728795480937,
          18.176914894753804,
          18.236191759984216,
          18.25040017067748,
          18.117946784744984,
          18.171870811088645,
          18.19897392254728,
          18.17650166413153,
          18.17019366760715,
          18.028856983141274,
          17.991248668909325,
          18.150797868433088,
          18.112392290881225,
          18.10266643877211,
          18.186214608425875,
          18.122995499518016,
          18.13603940378481,
          18.13079217230402,
          18.15975018423887,
          18.22891471621654,
          18.23883311883505,
          18.17096735760526,
          18.1896287280066,
          18.328755393145528,
          18.30193313074059,
          18.24888055889709,
          18.335378422059367,
          18.28643591975319,
          18.2889231030141,
          18.388272462999684,
          18.23009877570676,
          18.334258745972072,
          18.34346708491102,
          18.36966754717592,
          18.27271057204396,
          18.382020681605045,
          18.35394458845104,
          18.370928146292368,
          18.380686937639563,
          18.387406226684,
          18.375068408631986,
          18.333849016279377,
          18.453544060848795,
          18.403409745178724,
          18.33981213781857,
          18.32990581732248,
          18.147995521157828,
          18.304096982628955,
          18.35697728738464,
          18.30777645657582,
          18.247674258851458,
          18.31354605538012,
          18.275392683172164,
          18.238805399590834,
          18.29336170605936,
          18.255451521396864,
          18.30813638618009,
          18.267776165751226,
          18.170796141554497,
          18.29251850018811,
          18.1223123624152,
          18.05707447665352,
          18.133117744411123,
          18.21776042999493,
          18.136820160302,
          18.28394580258356,
          18.24528310939004,
          18.2663242462794,
          18.379553442414,
          18.342327731273205,
          18.282699958874336,
          18.454439152383543,
          18.441631173056265,
          18.406943650655823,
          18.47144925466505,
          18.50812162369248,
          18.4670508106182,
          18.49346830117042,
          18.511509962866565,
          18.5835483861428,
          18.618660633349887,
          18.56963592480407,
          18.494283271962143,
          18.664394761032668,
          18.58666965459598,
          18.641900093176574,
          18.58475210780012,
          18.647829161075133,
          18.62471228272112,
          18.587796755159584
         ]
        }
       ],
       "layout": {
        "legend": {
         "tracegroupgap": 0
        },
        "template": {
         "data": {
          "bar": [
           {
            "error_x": {
             "color": "#2a3f5f"
            },
            "error_y": {
             "color": "#2a3f5f"
            },
            "marker": {
             "line": {
              "color": "#E5ECF6",
              "width": 0.5
             },
             "pattern": {
              "fillmode": "overlay",
              "size": 10,
              "solidity": 0.2
             }
            },
            "type": "bar"
           }
          ],
          "barpolar": [
           {
            "marker": {
             "line": {
              "color": "#E5ECF6",
              "width": 0.5
             },
             "pattern": {
              "fillmode": "overlay",
              "size": 10,
              "solidity": 0.2
             }
            },
            "type": "barpolar"
           }
          ],
          "carpet": [
           {
            "aaxis": {
             "endlinecolor": "#2a3f5f",
             "gridcolor": "white",
             "linecolor": "white",
             "minorgridcolor": "white",
             "startlinecolor": "#2a3f5f"
            },
            "baxis": {
             "endlinecolor": "#2a3f5f",
             "gridcolor": "white",
             "linecolor": "white",
             "minorgridcolor": "white",
             "startlinecolor": "#2a3f5f"
            },
            "type": "carpet"
           }
          ],
          "choropleth": [
           {
            "colorbar": {
             "outlinewidth": 0,
             "ticks": ""
            },
            "type": "choropleth"
           }
          ],
          "contour": [
           {
            "colorbar": {
             "outlinewidth": 0,
             "ticks": ""
            },
            "colorscale": [
             [
              0,
              "#0d0887"
             ],
             [
              0.1111111111111111,
              "#46039f"
             ],
             [
              0.2222222222222222,
              "#7201a8"
             ],
             [
              0.3333333333333333,
              "#9c179e"
             ],
             [
              0.4444444444444444,
              "#bd3786"
             ],
             [
              0.5555555555555556,
              "#d8576b"
             ],
             [
              0.6666666666666666,
              "#ed7953"
             ],
             [
              0.7777777777777778,
              "#fb9f3a"
             ],
             [
              0.8888888888888888,
              "#fdca26"
             ],
             [
              1,
              "#f0f921"
             ]
            ],
            "type": "contour"
           }
          ],
          "contourcarpet": [
           {
            "colorbar": {
             "outlinewidth": 0,
             "ticks": ""
            },
            "type": "contourcarpet"
           }
          ],
          "heatmap": [
           {
            "colorbar": {
             "outlinewidth": 0,
             "ticks": ""
            },
            "colorscale": [
             [
              0,
              "#0d0887"
             ],
             [
              0.1111111111111111,
              "#46039f"
             ],
             [
              0.2222222222222222,
              "#7201a8"
             ],
             [
              0.3333333333333333,
              "#9c179e"
             ],
             [
              0.4444444444444444,
              "#bd3786"
             ],
             [
              0.5555555555555556,
              "#d8576b"
             ],
             [
              0.6666666666666666,
              "#ed7953"
             ],
             [
              0.7777777777777778,
              "#fb9f3a"
             ],
             [
              0.8888888888888888,
              "#fdca26"
             ],
             [
              1,
              "#f0f921"
             ]
            ],
            "type": "heatmap"
           }
          ],
          "heatmapgl": [
           {
            "colorbar": {
             "outlinewidth": 0,
             "ticks": ""
            },
            "colorscale": [
             [
              0,
              "#0d0887"
             ],
             [
              0.1111111111111111,
              "#46039f"
             ],
             [
              0.2222222222222222,
              "#7201a8"
             ],
             [
              0.3333333333333333,
              "#9c179e"
             ],
             [
              0.4444444444444444,
              "#bd3786"
             ],
             [
              0.5555555555555556,
              "#d8576b"
             ],
             [
              0.6666666666666666,
              "#ed7953"
             ],
             [
              0.7777777777777778,
              "#fb9f3a"
             ],
             [
              0.8888888888888888,
              "#fdca26"
             ],
             [
              1,
              "#f0f921"
             ]
            ],
            "type": "heatmapgl"
           }
          ],
          "histogram": [
           {
            "marker": {
             "pattern": {
              "fillmode": "overlay",
              "size": 10,
              "solidity": 0.2
             }
            },
            "type": "histogram"
           }
          ],
          "histogram2d": [
           {
            "colorbar": {
             "outlinewidth": 0,
             "ticks": ""
            },
            "colorscale": [
             [
              0,
              "#0d0887"
             ],
             [
              0.1111111111111111,
              "#46039f"
             ],
             [
              0.2222222222222222,
              "#7201a8"
             ],
             [
              0.3333333333333333,
              "#9c179e"
             ],
             [
              0.4444444444444444,
              "#bd3786"
             ],
             [
              0.5555555555555556,
              "#d8576b"
             ],
             [
              0.6666666666666666,
              "#ed7953"
             ],
             [
              0.7777777777777778,
              "#fb9f3a"
             ],
             [
              0.8888888888888888,
              "#fdca26"
             ],
             [
              1,
              "#f0f921"
             ]
            ],
            "type": "histogram2d"
           }
          ],
          "histogram2dcontour": [
           {
            "colorbar": {
             "outlinewidth": 0,
             "ticks": ""
            },
            "colorscale": [
             [
              0,
              "#0d0887"
             ],
             [
              0.1111111111111111,
              "#46039f"
             ],
             [
              0.2222222222222222,
              "#7201a8"
             ],
             [
              0.3333333333333333,
              "#9c179e"
             ],
             [
              0.4444444444444444,
              "#bd3786"
             ],
             [
              0.5555555555555556,
              "#d8576b"
             ],
             [
              0.6666666666666666,
              "#ed7953"
             ],
             [
              0.7777777777777778,
              "#fb9f3a"
             ],
             [
              0.8888888888888888,
              "#fdca26"
             ],
             [
              1,
              "#f0f921"
             ]
            ],
            "type": "histogram2dcontour"
           }
          ],
          "mesh3d": [
           {
            "colorbar": {
             "outlinewidth": 0,
             "ticks": ""
            },
            "type": "mesh3d"
           }
          ],
          "parcoords": [
           {
            "line": {
             "colorbar": {
              "outlinewidth": 0,
              "ticks": ""
             }
            },
            "type": "parcoords"
           }
          ],
          "pie": [
           {
            "automargin": true,
            "type": "pie"
           }
          ],
          "scatter": [
           {
            "fillpattern": {
             "fillmode": "overlay",
             "size": 10,
             "solidity": 0.2
            },
            "type": "scatter"
           }
          ],
          "scatter3d": [
           {
            "line": {
             "colorbar": {
              "outlinewidth": 0,
              "ticks": ""
             }
            },
            "marker": {
             "colorbar": {
              "outlinewidth": 0,
              "ticks": ""
             }
            },
            "type": "scatter3d"
           }
          ],
          "scattercarpet": [
           {
            "marker": {
             "colorbar": {
              "outlinewidth": 0,
              "ticks": ""
             }
            },
            "type": "scattercarpet"
           }
          ],
          "scattergeo": [
           {
            "marker": {
             "colorbar": {
              "outlinewidth": 0,
              "ticks": ""
             }
            },
            "type": "scattergeo"
           }
          ],
          "scattergl": [
           {
            "marker": {
             "colorbar": {
              "outlinewidth": 0,
              "ticks": ""
             }
            },
            "type": "scattergl"
           }
          ],
          "scattermapbox": [
           {
            "marker": {
             "colorbar": {
              "outlinewidth": 0,
              "ticks": ""
             }
            },
            "type": "scattermapbox"
           }
          ],
          "scatterpolar": [
           {
            "marker": {
             "colorbar": {
              "outlinewidth": 0,
              "ticks": ""
             }
            },
            "type": "scatterpolar"
           }
          ],
          "scatterpolargl": [
           {
            "marker": {
             "colorbar": {
              "outlinewidth": 0,
              "ticks": ""
             }
            },
            "type": "scatterpolargl"
           }
          ],
          "scatterternary": [
           {
            "marker": {
             "colorbar": {
              "outlinewidth": 0,
              "ticks": ""
             }
            },
            "type": "scatterternary"
           }
          ],
          "surface": [
           {
            "colorbar": {
             "outlinewidth": 0,
             "ticks": ""
            },
            "colorscale": [
             [
              0,
              "#0d0887"
             ],
             [
              0.1111111111111111,
              "#46039f"
             ],
             [
              0.2222222222222222,
              "#7201a8"
             ],
             [
              0.3333333333333333,
              "#9c179e"
             ],
             [
              0.4444444444444444,
              "#bd3786"
             ],
             [
              0.5555555555555556,
              "#d8576b"
             ],
             [
              0.6666666666666666,
              "#ed7953"
             ],
             [
              0.7777777777777778,
              "#fb9f3a"
             ],
             [
              0.8888888888888888,
              "#fdca26"
             ],
             [
              1,
              "#f0f921"
             ]
            ],
            "type": "surface"
           }
          ],
          "table": [
           {
            "cells": {
             "fill": {
              "color": "#EBF0F8"
             },
             "line": {
              "color": "white"
             }
            },
            "header": {
             "fill": {
              "color": "#C8D4E3"
             },
             "line": {
              "color": "white"
             }
            },
            "type": "table"
           }
          ]
         },
         "layout": {
          "annotationdefaults": {
           "arrowcolor": "#2a3f5f",
           "arrowhead": 0,
           "arrowwidth": 1
          },
          "autotypenumbers": "strict",
          "coloraxis": {
           "colorbar": {
            "outlinewidth": 0,
            "ticks": ""
           }
          },
          "colorscale": {
           "diverging": [
            [
             0,
             "#8e0152"
            ],
            [
             0.1,
             "#c51b7d"
            ],
            [
             0.2,
             "#de77ae"
            ],
            [
             0.3,
             "#f1b6da"
            ],
            [
             0.4,
             "#fde0ef"
            ],
            [
             0.5,
             "#f7f7f7"
            ],
            [
             0.6,
             "#e6f5d0"
            ],
            [
             0.7,
             "#b8e186"
            ],
            [
             0.8,
             "#7fbc41"
            ],
            [
             0.9,
             "#4d9221"
            ],
            [
             1,
             "#276419"
            ]
           ],
           "sequential": [
            [
             0,
             "#0d0887"
            ],
            [
             0.1111111111111111,
             "#46039f"
            ],
            [
             0.2222222222222222,
             "#7201a8"
            ],
            [
             0.3333333333333333,
             "#9c179e"
            ],
            [
             0.4444444444444444,
             "#bd3786"
            ],
            [
             0.5555555555555556,
             "#d8576b"
            ],
            [
             0.6666666666666666,
             "#ed7953"
            ],
            [
             0.7777777777777778,
             "#fb9f3a"
            ],
            [
             0.8888888888888888,
             "#fdca26"
            ],
            [
             1,
             "#f0f921"
            ]
           ],
           "sequentialminus": [
            [
             0,
             "#0d0887"
            ],
            [
             0.1111111111111111,
             "#46039f"
            ],
            [
             0.2222222222222222,
             "#7201a8"
            ],
            [
             0.3333333333333333,
             "#9c179e"
            ],
            [
             0.4444444444444444,
             "#bd3786"
            ],
            [
             0.5555555555555556,
             "#d8576b"
            ],
            [
             0.6666666666666666,
             "#ed7953"
            ],
            [
             0.7777777777777778,
             "#fb9f3a"
            ],
            [
             0.8888888888888888,
             "#fdca26"
            ],
            [
             1,
             "#f0f921"
            ]
           ]
          },
          "colorway": [
           "#636efa",
           "#EF553B",
           "#00cc96",
           "#ab63fa",
           "#FFA15A",
           "#19d3f3",
           "#FF6692",
           "#B6E880",
           "#FF97FF",
           "#FECB52"
          ],
          "font": {
           "color": "#2a3f5f"
          },
          "geo": {
           "bgcolor": "white",
           "lakecolor": "white",
           "landcolor": "#E5ECF6",
           "showlakes": true,
           "showland": true,
           "subunitcolor": "white"
          },
          "hoverlabel": {
           "align": "left"
          },
          "hovermode": "closest",
          "mapbox": {
           "style": "light"
          },
          "paper_bgcolor": "white",
          "plot_bgcolor": "#E5ECF6",
          "polar": {
           "angularaxis": {
            "gridcolor": "white",
            "linecolor": "white",
            "ticks": ""
           },
           "bgcolor": "#E5ECF6",
           "radialaxis": {
            "gridcolor": "white",
            "linecolor": "white",
            "ticks": ""
           }
          },
          "scene": {
           "xaxis": {
            "backgroundcolor": "#E5ECF6",
            "gridcolor": "white",
            "gridwidth": 2,
            "linecolor": "white",
            "showbackground": true,
            "ticks": "",
            "zerolinecolor": "white"
           },
           "yaxis": {
            "backgroundcolor": "#E5ECF6",
            "gridcolor": "white",
            "gridwidth": 2,
            "linecolor": "white",
            "showbackground": true,
            "ticks": "",
            "zerolinecolor": "white"
           },
           "zaxis": {
            "backgroundcolor": "#E5ECF6",
            "gridcolor": "white",
            "gridwidth": 2,
            "linecolor": "white",
            "showbackground": true,
            "ticks": "",
            "zerolinecolor": "white"
           }
          },
          "shapedefaults": {
           "line": {
            "color": "#2a3f5f"
           }
          },
          "ternary": {
           "aaxis": {
            "gridcolor": "white",
            "linecolor": "white",
            "ticks": ""
           },
           "baxis": {
            "gridcolor": "white",
            "linecolor": "white",
            "ticks": ""
           },
           "bgcolor": "#E5ECF6",
           "caxis": {
            "gridcolor": "white",
            "linecolor": "white",
            "ticks": ""
           }
          },
          "title": {
           "x": 0.05
          },
          "xaxis": {
           "automargin": true,
           "gridcolor": "white",
           "linecolor": "white",
           "ticks": "",
           "title": {
            "standoff": 15
           },
           "zerolinecolor": "white",
           "zerolinewidth": 2
          },
          "yaxis": {
           "automargin": true,
           "gridcolor": "white",
           "linecolor": "white",
           "ticks": "",
           "title": {
            "standoff": 15
           },
           "zerolinecolor": "white",
           "zerolinewidth": 2
          }
         }
        },
        "title": {
         "text": "ROK EX_IM"
        },
        "xaxis": {
         "anchor": "y",
         "domain": [
          0,
          1
         ],
         "title": {
          "text": "index"
         }
        },
        "yaxis": {
         "anchor": "x",
         "domain": [
          0,
          1
         ],
         "title": {
          "text": "estimation"
         }
        }
       }
      },
      "text/html": [
       "<div>                            <div id=\"cc6d5c10-d262-40ac-bf01-f6f1cf77676c\" class=\"plotly-graph-div\" style=\"height:525px; width:100%;\"></div>            <script type=\"text/javascript\">                require([\"plotly\"], function(Plotly) {                    window.PLOTLYENV=window.PLOTLYENV || {};                                    if (document.getElementById(\"cc6d5c10-d262-40ac-bf01-f6f1cf77676c\")) {                    Plotly.newPlot(                        \"cc6d5c10-d262-40ac-bf01-f6f1cf77676c\",                        [{\"hovertemplate\":\"index=%{x}<br>estimation=%{y}<extra></extra>\",\"legendgroup\":\"\",\"line\":{\"color\":\"#636efa\",\"dash\":\"solid\"},\"marker\":{\"symbol\":\"circle\"},\"mode\":\"lines\",\"name\":\"\",\"orientation\":\"v\",\"showlegend\":false,\"x\":[0,1,2,3,4,5,6,7,8,9,10,11,12,13,14,15,16,17,18,19,20,21,22,23,24,25,26,27,28,29,30,31,32,33,34,35,36,37,38,39,40,41,42,43,44,45,46,47,48,49,50,51,52,53,54,55,56,57,58,59,60,61,62,63,64,65,66,67,68,69,70,71,72,73,74,75,76,77,78,79,80,81,82,83,84,85,86,87,88,89,90,91,92,93,94,95,96,97,98,99,100,101,102,103,104,105,106,107,108,109,110,111,112,113,114,115,116,117,118,119,120,121,122,123,124,125,126,127,128,129,130,131,132,133,134,135,136,137,138,139,140,141,142,143,144,145,146,147,148,149,150,151,152,153,154,155,156,157,158,159,160,161,162,163,164,165,166,167,168,169,170,171,172,173,174,175,176,177,178,179,180,181,182,183,184,185,186,187,188,189,190,191,192,193,194,195,196,197,198,199,200,201,202,203,204,205,206,207,208,209,210,211,212,213,214,215,216,217,218,219,220,221,222,223,224,225,226,227,228,229,230,231,232,233,234,235,236,237,238,239,240,241,242,243,244,245,246,247,248,249,250,251,252,253,254,255,256,257,258,259,260,261,262,263,264,265,266,267,268,269],\"xaxis\":\"x\",\"y\":[17.02462077411712,17.022301412857498,17.17037474463471,17.10639339522934,17.144857811495243,17.162900997443575,17.152259441103368,17.15582562419318,17.1627860003948,17.194880784355785,17.18794783767221,17.1531445873016,17.037419857193274,17.076922056964705,17.114186981199918,16.96539216848748,17.028842765339842,17.020324252907894,16.929017911587447,16.955517099760257,17.000084047405437,16.976456885902003,16.988624624409812,16.960370775643746,16.938241450719364,16.88329359621389,17.04399685395967,17.063721082294965,17.106568541797802,17.02749505206414,17.08989495643418,17.1046532531049,17.107351301949915,17.179411666882615,17.1893364687638,17.199157867422045,17.17640310302363,17.118559097964486,17.257500077700985,17.23255960219586,17.154823103239742,17.18571484394431,17.22763854892555,17.179927350946446,17.267164207138038,17.384093310433922,17.341954549685195,17.435928419080703,17.37644296933527,17.41570993449094,17.511736287002055,17.512192220535955,17.472115833787726,17.50941389621243,17.489121159177238,17.451077127058127,17.479699699485195,17.578372199535654,17.58570676166173,17.60343645335669,17.550892513923372,17.47387935997128,17.659947544681,17.60235564032919,17.606144857613284,17.622087999673667,17.61647564833405,17.629783900467263,17.67070599364106,17.686825791515176,17.721027323642787,17.723881743607794,17.651670790938393,17.671909557628418,17.781740497007736,17.729051271091212,17.80717384548826,17.803980935586207,17.753670303460275,17.81034147820046,17.863599832999878,17.79776312852512,17.86498724377946,17.846091001344153,17.83464046922283,17.75963819023193,17.90452929646436,17.902181385586942,17.92469181014991,17.91828956669361,17.90032056038844,17.920468333594577,17.850054105987056,18.02281238235768,18.06019880545417,18.019100943252685,18.043695288051584,17.971303308661025,18.10737089411322,18.14769873420024,18.173342164357177,18.13415185965679,18.245299614575707,18.159719145289085,18.158749273815896,18.108841406919225,17.870685631054453,17.798801931971035,17.6448522743895,17.686612480629755,17.763121783176725,17.826479924270238,17.75185287704712,17.87421656078588,17.90296856218437,17.8472315288443,17.969374331261417,17.980104863700877,17.966964504120675,18.048603795756883,17.947012969919722,17.97569791538862,18.104389216086705,18.1306409743156,18.11607629230464,18.16325390431721,18.14420667979269,18.088780903975017,18.125136673495,18.20179598608976,18.19666451196312,18.24872963569038,18.275038469764983,18.13125047763309,18.354743303449883,18.34515134512716,18.34397528895132,18.33252323768016,18.350754315408025,18.328277485953866,18.335018645367995,18.30777237030204,18.304406174987808,18.35060367064526,18.254834508636307,18.33093291355969,18.341455950862148,18.315897061894045,18.33023835321541,18.305900826917814,18.27732503322045,18.24824047800461,18.292529969802864,18.320502919364102,18.32842052129656,18.29221558199583,18.32604090042247,18.231821571442847,18.32954570908766,18.313164194612288,18.323039623615703,18.286124563555035,18.30654768402282,18.29176908675592,18.266432120995503,18.38074842646877,18.32649205703973,18.34090828809085,18.31871053027605,18.25784751800981,18.36541184150795,18.38132414396689,18.31736997058121,18.31869331082772,18.359533383656977,18.30302538889447,18.333279425490897,18.377022209420243,18.29226306540473,18.35209428629669,18.25094067526161,18.13925250213964,18.26178707055978,18.24728795480937,18.176914894753804,18.236191759984216,18.25040017067748,18.117946784744984,18.171870811088645,18.19897392254728,18.17650166413153,18.15041732788086,18.11231231689453,18.103425979614258,18.18556785583496,18.122989654541016,18.13656997680664,18.131515502929688,18.159839630126953,18.22818946838379,18.238636016845703,18.171550750732422,18.189836502075195,18.326932907104492,18.30211639404297,18.24954605102539,18.33499526977539,18.286863327026367,18.289426803588867,18.3872013092041,18.23091697692871,18.334226608276367,18.3437557220459,18.369009017944336,18.27391815185547,18.381881713867188,18.354108810424805,18.37088394165039,18.380525588989258,18.386627197265625,18.374897003173828,18.33427619934082,18.452482223510742,18.403657913208008,18.339868545532227,18.329898834228516,18.149349212646484,18.303815841674805,18.35611343383789,18.307987213134766,18.248567581176758,18.31295394897461,18.275318145751953,18.239133834838867,18.293750762939453,18.255712509155273,18.30788803100586,18.26798439025879,18.17128562927246,18.291847229003906,18.122541427612305,18.0566463470459,18.134075164794922,18.217275619506836,18.137353897094727,18.282987594604492,18.245454788208008,18.266599655151367,18.378726959228516,18.342182159423828,18.283615112304688,18.454538345336914,18.441505432128906,18.406620025634766,18.471656799316406,18.50834846496582,18.466896057128906,18.492687225341797,18.512468338012695,18.58367156982422,18.618022918701172,18.57004165649414,18.49454689025879,18.662689208984375,18.586462020874023,18.6420841217041,18.585094451904297,18.64748191833496,18.624588012695312,18.588106155395508],\"yaxis\":\"y\",\"type\":\"scatter\"},{\"mode\":\"lines\",\"name\":\"Original\",\"x\":[4,5,6,7,8,9,10,11,12,13,14,15,16,17,18,19,20,21,22,23,24,25,26,27,28,29,30,31,32,33,34,35,36,37,38,39,40,41,42,43,44,45,46,47,48,49,50,51,52,53,54,55,56,57,58,59,60,61,62,63,64,65,66,67,68,69,70,71,72,73,74,75,76,77,78,79,80,81,82,83,84,85,86,87,88,89,90,91,92,93,94,95,96,97,98,99,100,101,102,103,104,105,106,107,108,109,110,111,112,113,114,115,116,117,118,119,120,121,122,123,124,125,126,127,128,129,130,131,132,133,134,135,136,137,138,139,140,141,142,143,144,145,146,147,148,149,150,151,152,153,154,155,156,157,158,159,160,161,162,163,164,165,166,167,168,169,170,171,172,173,174,175,176,177,178,179,180,181,182,183,184,185,186,187,188,189,190,191,192,193,194,195,196,197,198,199,200,201,202,203,204,205,206,207,208,209,210,211,212,213,214,215,216,217,218,219,220,221,222,223,224,225,226,227,228,229,230,231,232,233,234,235,236,237,238,239,240,241,242,243,244,245,246,247,248,249,250,251,252,253,254,255,256,257,258,259,260,261,262,263,264,265,266,267,268,269,270,271,272,273,274,275,276],\"y\":[17.02462077411712,17.022301412857498,17.17037474463471,17.10639339522934,17.144857811495243,17.162900997443575,17.152259441103368,17.15582562419318,17.1627860003948,17.194880784355785,17.18794783767221,17.1531445873016,17.037419857193274,17.076922056964705,17.114186981199918,16.96539216848748,17.028842765339842,17.020324252907894,16.929017911587447,16.955517099760257,17.000084047405437,16.976456885902003,16.988624624409812,16.960370775643746,16.938241450719364,16.88329359621389,17.04399685395967,17.063721082294965,17.106568541797802,17.02749505206414,17.08989495643418,17.1046532531049,17.107351301949915,17.179411666882615,17.1893364687638,17.199157867422045,17.17640310302363,17.118559097964486,17.257500077700985,17.23255960219586,17.154823103239742,17.18571484394431,17.22763854892555,17.179927350946446,17.267164207138038,17.384093310433922,17.341954549685195,17.435928419080703,17.37644296933527,17.41570993449094,17.511736287002055,17.512192220535955,17.472115833787726,17.50941389621243,17.489121159177238,17.451077127058127,17.479699699485195,17.578372199535654,17.58570676166173,17.60343645335669,17.550892513923372,17.47387935997128,17.659947544681,17.60235564032919,17.606144857613284,17.622087999673667,17.61647564833405,17.629783900467263,17.67070599364106,17.686825791515176,17.721027323642787,17.723881743607794,17.651670790938393,17.671909557628418,17.781740497007736,17.729051271091212,17.80717384548826,17.803980935586207,17.753670303460275,17.81034147820046,17.863599832999878,17.79776312852512,17.86498724377946,17.846091001344153,17.83464046922283,17.75963819023193,17.90452929646436,17.902181385586942,17.92469181014991,17.91828956669361,17.90032056038844,17.920468333594577,17.850054105987056,18.02281238235768,18.06019880545417,18.019100943252685,18.043695288051584,17.971303308661025,18.10737089411322,18.14769873420024,18.173342164357177,18.13415185965679,18.245299614575707,18.159719145289085,18.158749273815896,18.108841406919225,17.870685631054453,17.798801931971035,17.6448522743895,17.686612480629755,17.763121783176725,17.826479924270238,17.75185287704712,17.87421656078588,17.90296856218437,17.8472315288443,17.969374331261417,17.980104863700877,17.966964504120675,18.048603795756883,17.947012969919722,17.97569791538862,18.104389216086705,18.1306409743156,18.11607629230464,18.16325390431721,18.14420667979269,18.088780903975017,18.125136673495,18.20179598608976,18.19666451196312,18.24872963569038,18.275038469764983,18.13125047763309,18.354743303449883,18.34515134512716,18.34397528895132,18.33252323768016,18.350754315408025,18.328277485953866,18.335018645367995,18.30777237030204,18.304406174987808,18.35060367064526,18.254834508636307,18.33093291355969,18.341455950862148,18.315897061894045,18.33023835321541,18.305900826917814,18.27732503322045,18.24824047800461,18.292529969802864,18.320502919364102,18.32842052129656,18.29221558199583,18.32604090042247,18.231821571442847,18.32954570908766,18.313164194612288,18.323039623615703,18.286124563555035,18.30654768402282,18.29176908675592,18.266432120995503,18.38074842646877,18.32649205703973,18.34090828809085,18.31871053027605,18.25784751800981,18.36541184150795,18.38132414396689,18.31736997058121,18.31869331082772,18.359533383656977,18.30302538889447,18.333279425490897,18.377022209420243,18.29226306540473,18.35209428629669,18.25094067526161,18.13925250213964,18.26178707055978,18.24728795480937,18.176914894753804,18.236191759984216,18.25040017067748,18.117946784744984,18.171870811088645,18.19897392254728,18.17650166413153,18.17019366760715,18.028856983141274,17.991248668909325,18.150797868433088,18.112392290881225,18.10266643877211,18.186214608425875,18.122995499518016,18.13603940378481,18.13079217230402,18.15975018423887,18.22891471621654,18.23883311883505,18.17096735760526,18.1896287280066,18.328755393145528,18.30193313074059,18.24888055889709,18.335378422059367,18.28643591975319,18.2889231030141,18.388272462999684,18.23009877570676,18.334258745972072,18.34346708491102,18.36966754717592,18.27271057204396,18.382020681605045,18.35394458845104,18.370928146292368,18.380686937639563,18.387406226684,18.375068408631986,18.333849016279377,18.453544060848795,18.403409745178724,18.33981213781857,18.32990581732248,18.147995521157828,18.304096982628955,18.35697728738464,18.30777645657582,18.247674258851458,18.31354605538012,18.275392683172164,18.238805399590834,18.29336170605936,18.255451521396864,18.30813638618009,18.267776165751226,18.170796141554497,18.29251850018811,18.1223123624152,18.05707447665352,18.133117744411123,18.21776042999493,18.136820160302,18.28394580258356,18.24528310939004,18.2663242462794,18.379553442414,18.342327731273205,18.282699958874336,18.454439152383543,18.441631173056265,18.406943650655823,18.47144925466505,18.50812162369248,18.4670508106182,18.49346830117042,18.511509962866565,18.5835483861428,18.618660633349887,18.56963592480407,18.494283271962143,18.664394761032668,18.58666965459598,18.641900093176574,18.58475210780012,18.647829161075133,18.62471228272112,18.587796755159584],\"type\":\"scatter\"}],                        {\"template\":{\"data\":{\"histogram2dcontour\":[{\"type\":\"histogram2dcontour\",\"colorbar\":{\"outlinewidth\":0,\"ticks\":\"\"},\"colorscale\":[[0.0,\"#0d0887\"],[0.1111111111111111,\"#46039f\"],[0.2222222222222222,\"#7201a8\"],[0.3333333333333333,\"#9c179e\"],[0.4444444444444444,\"#bd3786\"],[0.5555555555555556,\"#d8576b\"],[0.6666666666666666,\"#ed7953\"],[0.7777777777777778,\"#fb9f3a\"],[0.8888888888888888,\"#fdca26\"],[1.0,\"#f0f921\"]]}],\"choropleth\":[{\"type\":\"choropleth\",\"colorbar\":{\"outlinewidth\":0,\"ticks\":\"\"}}],\"histogram2d\":[{\"type\":\"histogram2d\",\"colorbar\":{\"outlinewidth\":0,\"ticks\":\"\"},\"colorscale\":[[0.0,\"#0d0887\"],[0.1111111111111111,\"#46039f\"],[0.2222222222222222,\"#7201a8\"],[0.3333333333333333,\"#9c179e\"],[0.4444444444444444,\"#bd3786\"],[0.5555555555555556,\"#d8576b\"],[0.6666666666666666,\"#ed7953\"],[0.7777777777777778,\"#fb9f3a\"],[0.8888888888888888,\"#fdca26\"],[1.0,\"#f0f921\"]]}],\"heatmap\":[{\"type\":\"heatmap\",\"colorbar\":{\"outlinewidth\":0,\"ticks\":\"\"},\"colorscale\":[[0.0,\"#0d0887\"],[0.1111111111111111,\"#46039f\"],[0.2222222222222222,\"#7201a8\"],[0.3333333333333333,\"#9c179e\"],[0.4444444444444444,\"#bd3786\"],[0.5555555555555556,\"#d8576b\"],[0.6666666666666666,\"#ed7953\"],[0.7777777777777778,\"#fb9f3a\"],[0.8888888888888888,\"#fdca26\"],[1.0,\"#f0f921\"]]}],\"heatmapgl\":[{\"type\":\"heatmapgl\",\"colorbar\":{\"outlinewidth\":0,\"ticks\":\"\"},\"colorscale\":[[0.0,\"#0d0887\"],[0.1111111111111111,\"#46039f\"],[0.2222222222222222,\"#7201a8\"],[0.3333333333333333,\"#9c179e\"],[0.4444444444444444,\"#bd3786\"],[0.5555555555555556,\"#d8576b\"],[0.6666666666666666,\"#ed7953\"],[0.7777777777777778,\"#fb9f3a\"],[0.8888888888888888,\"#fdca26\"],[1.0,\"#f0f921\"]]}],\"contourcarpet\":[{\"type\":\"contourcarpet\",\"colorbar\":{\"outlinewidth\":0,\"ticks\":\"\"}}],\"contour\":[{\"type\":\"contour\",\"colorbar\":{\"outlinewidth\":0,\"ticks\":\"\"},\"colorscale\":[[0.0,\"#0d0887\"],[0.1111111111111111,\"#46039f\"],[0.2222222222222222,\"#7201a8\"],[0.3333333333333333,\"#9c179e\"],[0.4444444444444444,\"#bd3786\"],[0.5555555555555556,\"#d8576b\"],[0.6666666666666666,\"#ed7953\"],[0.7777777777777778,\"#fb9f3a\"],[0.8888888888888888,\"#fdca26\"],[1.0,\"#f0f921\"]]}],\"surface\":[{\"type\":\"surface\",\"colorbar\":{\"outlinewidth\":0,\"ticks\":\"\"},\"colorscale\":[[0.0,\"#0d0887\"],[0.1111111111111111,\"#46039f\"],[0.2222222222222222,\"#7201a8\"],[0.3333333333333333,\"#9c179e\"],[0.4444444444444444,\"#bd3786\"],[0.5555555555555556,\"#d8576b\"],[0.6666666666666666,\"#ed7953\"],[0.7777777777777778,\"#fb9f3a\"],[0.8888888888888888,\"#fdca26\"],[1.0,\"#f0f921\"]]}],\"mesh3d\":[{\"type\":\"mesh3d\",\"colorbar\":{\"outlinewidth\":0,\"ticks\":\"\"}}],\"scatter\":[{\"fillpattern\":{\"fillmode\":\"overlay\",\"size\":10,\"solidity\":0.2},\"type\":\"scatter\"}],\"parcoords\":[{\"type\":\"parcoords\",\"line\":{\"colorbar\":{\"outlinewidth\":0,\"ticks\":\"\"}}}],\"scatterpolargl\":[{\"type\":\"scatterpolargl\",\"marker\":{\"colorbar\":{\"outlinewidth\":0,\"ticks\":\"\"}}}],\"bar\":[{\"error_x\":{\"color\":\"#2a3f5f\"},\"error_y\":{\"color\":\"#2a3f5f\"},\"marker\":{\"line\":{\"color\":\"#E5ECF6\",\"width\":0.5},\"pattern\":{\"fillmode\":\"overlay\",\"size\":10,\"solidity\":0.2}},\"type\":\"bar\"}],\"scattergeo\":[{\"type\":\"scattergeo\",\"marker\":{\"colorbar\":{\"outlinewidth\":0,\"ticks\":\"\"}}}],\"scatterpolar\":[{\"type\":\"scatterpolar\",\"marker\":{\"colorbar\":{\"outlinewidth\":0,\"ticks\":\"\"}}}],\"histogram\":[{\"marker\":{\"pattern\":{\"fillmode\":\"overlay\",\"size\":10,\"solidity\":0.2}},\"type\":\"histogram\"}],\"scattergl\":[{\"type\":\"scattergl\",\"marker\":{\"colorbar\":{\"outlinewidth\":0,\"ticks\":\"\"}}}],\"scatter3d\":[{\"type\":\"scatter3d\",\"line\":{\"colorbar\":{\"outlinewidth\":0,\"ticks\":\"\"}},\"marker\":{\"colorbar\":{\"outlinewidth\":0,\"ticks\":\"\"}}}],\"scattermapbox\":[{\"type\":\"scattermapbox\",\"marker\":{\"colorbar\":{\"outlinewidth\":0,\"ticks\":\"\"}}}],\"scatterternary\":[{\"type\":\"scatterternary\",\"marker\":{\"colorbar\":{\"outlinewidth\":0,\"ticks\":\"\"}}}],\"scattercarpet\":[{\"type\":\"scattercarpet\",\"marker\":{\"colorbar\":{\"outlinewidth\":0,\"ticks\":\"\"}}}],\"carpet\":[{\"aaxis\":{\"endlinecolor\":\"#2a3f5f\",\"gridcolor\":\"white\",\"linecolor\":\"white\",\"minorgridcolor\":\"white\",\"startlinecolor\":\"#2a3f5f\"},\"baxis\":{\"endlinecolor\":\"#2a3f5f\",\"gridcolor\":\"white\",\"linecolor\":\"white\",\"minorgridcolor\":\"white\",\"startlinecolor\":\"#2a3f5f\"},\"type\":\"carpet\"}],\"table\":[{\"cells\":{\"fill\":{\"color\":\"#EBF0F8\"},\"line\":{\"color\":\"white\"}},\"header\":{\"fill\":{\"color\":\"#C8D4E3\"},\"line\":{\"color\":\"white\"}},\"type\":\"table\"}],\"barpolar\":[{\"marker\":{\"line\":{\"color\":\"#E5ECF6\",\"width\":0.5},\"pattern\":{\"fillmode\":\"overlay\",\"size\":10,\"solidity\":0.2}},\"type\":\"barpolar\"}],\"pie\":[{\"automargin\":true,\"type\":\"pie\"}]},\"layout\":{\"autotypenumbers\":\"strict\",\"colorway\":[\"#636efa\",\"#EF553B\",\"#00cc96\",\"#ab63fa\",\"#FFA15A\",\"#19d3f3\",\"#FF6692\",\"#B6E880\",\"#FF97FF\",\"#FECB52\"],\"font\":{\"color\":\"#2a3f5f\"},\"hovermode\":\"closest\",\"hoverlabel\":{\"align\":\"left\"},\"paper_bgcolor\":\"white\",\"plot_bgcolor\":\"#E5ECF6\",\"polar\":{\"bgcolor\":\"#E5ECF6\",\"angularaxis\":{\"gridcolor\":\"white\",\"linecolor\":\"white\",\"ticks\":\"\"},\"radialaxis\":{\"gridcolor\":\"white\",\"linecolor\":\"white\",\"ticks\":\"\"}},\"ternary\":{\"bgcolor\":\"#E5ECF6\",\"aaxis\":{\"gridcolor\":\"white\",\"linecolor\":\"white\",\"ticks\":\"\"},\"baxis\":{\"gridcolor\":\"white\",\"linecolor\":\"white\",\"ticks\":\"\"},\"caxis\":{\"gridcolor\":\"white\",\"linecolor\":\"white\",\"ticks\":\"\"}},\"coloraxis\":{\"colorbar\":{\"outlinewidth\":0,\"ticks\":\"\"}},\"colorscale\":{\"sequential\":[[0.0,\"#0d0887\"],[0.1111111111111111,\"#46039f\"],[0.2222222222222222,\"#7201a8\"],[0.3333333333333333,\"#9c179e\"],[0.4444444444444444,\"#bd3786\"],[0.5555555555555556,\"#d8576b\"],[0.6666666666666666,\"#ed7953\"],[0.7777777777777778,\"#fb9f3a\"],[0.8888888888888888,\"#fdca26\"],[1.0,\"#f0f921\"]],\"sequentialminus\":[[0.0,\"#0d0887\"],[0.1111111111111111,\"#46039f\"],[0.2222222222222222,\"#7201a8\"],[0.3333333333333333,\"#9c179e\"],[0.4444444444444444,\"#bd3786\"],[0.5555555555555556,\"#d8576b\"],[0.6666666666666666,\"#ed7953\"],[0.7777777777777778,\"#fb9f3a\"],[0.8888888888888888,\"#fdca26\"],[1.0,\"#f0f921\"]],\"diverging\":[[0,\"#8e0152\"],[0.1,\"#c51b7d\"],[0.2,\"#de77ae\"],[0.3,\"#f1b6da\"],[0.4,\"#fde0ef\"],[0.5,\"#f7f7f7\"],[0.6,\"#e6f5d0\"],[0.7,\"#b8e186\"],[0.8,\"#7fbc41\"],[0.9,\"#4d9221\"],[1,\"#276419\"]]},\"xaxis\":{\"gridcolor\":\"white\",\"linecolor\":\"white\",\"ticks\":\"\",\"title\":{\"standoff\":15},\"zerolinecolor\":\"white\",\"automargin\":true,\"zerolinewidth\":2},\"yaxis\":{\"gridcolor\":\"white\",\"linecolor\":\"white\",\"ticks\":\"\",\"title\":{\"standoff\":15},\"zerolinecolor\":\"white\",\"automargin\":true,\"zerolinewidth\":2},\"scene\":{\"xaxis\":{\"backgroundcolor\":\"#E5ECF6\",\"gridcolor\":\"white\",\"linecolor\":\"white\",\"showbackground\":true,\"ticks\":\"\",\"zerolinecolor\":\"white\",\"gridwidth\":2},\"yaxis\":{\"backgroundcolor\":\"#E5ECF6\",\"gridcolor\":\"white\",\"linecolor\":\"white\",\"showbackground\":true,\"ticks\":\"\",\"zerolinecolor\":\"white\",\"gridwidth\":2},\"zaxis\":{\"backgroundcolor\":\"#E5ECF6\",\"gridcolor\":\"white\",\"linecolor\":\"white\",\"showbackground\":true,\"ticks\":\"\",\"zerolinecolor\":\"white\",\"gridwidth\":2}},\"shapedefaults\":{\"line\":{\"color\":\"#2a3f5f\"}},\"annotationdefaults\":{\"arrowcolor\":\"#2a3f5f\",\"arrowhead\":0,\"arrowwidth\":1},\"geo\":{\"bgcolor\":\"white\",\"landcolor\":\"#E5ECF6\",\"subunitcolor\":\"white\",\"showland\":true,\"showlakes\":true,\"lakecolor\":\"white\"},\"title\":{\"x\":0.05},\"mapbox\":{\"style\":\"light\"}}},\"xaxis\":{\"anchor\":\"y\",\"domain\":[0.0,1.0],\"title\":{\"text\":\"index\"}},\"yaxis\":{\"anchor\":\"x\",\"domain\":[0.0,1.0],\"title\":{\"text\":\"estimation\"}},\"legend\":{\"tracegroupgap\":0},\"title\":{\"text\":\"ROK EX_IM\"}},                        {\"responsive\": true}                    ).then(function(){\n",
       "                            \n",
       "var gd = document.getElementById('cc6d5c10-d262-40ac-bf01-f6f1cf77676c');\n",
       "var x = new MutationObserver(function (mutations, observer) {{\n",
       "        var display = window.getComputedStyle(gd).display;\n",
       "        if (!display || display === 'none') {{\n",
       "            console.log([gd, 'removed!']);\n",
       "            Plotly.purge(gd);\n",
       "            observer.disconnect();\n",
       "        }}\n",
       "}});\n",
       "\n",
       "// Listen for the removal of the full notebook cells\n",
       "var notebookContainer = gd.closest('#notebook-container');\n",
       "if (notebookContainer) {{\n",
       "    x.observe(notebookContainer, {childList: true});\n",
       "}}\n",
       "\n",
       "// Listen for the clearing of the current output cell\n",
       "var outputEl = gd.closest('.output');\n",
       "if (outputEl) {{\n",
       "    x.observe(outputEl, {childList: true});\n",
       "}}\n",
       "\n",
       "                        })                };                });            </script>        </div>"
      ]
     },
     "metadata": {},
     "output_type": "display_data"
    }
   ],
   "source": [
    "fig = px.line(df_est_1, x=df_est_1.index, y='estimation' ,title='ROK EX_IM')\n",
    "fig.add_trace(go.Scatter(x=lag_ln0.index, y=lag_ln0, mode='lines', name='Original'))\n",
    "\n",
    "fig.show()"
   ]
  },
  {
   "cell_type": "code",
   "execution_count": 29,
   "id": "6698acee",
   "metadata": {},
   "outputs": [
    {
     "data": {
      "text/plain": [
       "['OIL_D(t-4)',\n",
       " 'OIL_B(t-4)',\n",
       " 'GOLD(t-4)',\n",
       " 'NIKEL(t-4)',\n",
       " 'WHEAT(t-4)',\n",
       " 'COPP(t-4)',\n",
       " 'ALMN(t-4)',\n",
       " 'COTT(t-4)',\n",
       " 'STI(t-4)',\n",
       " 'SHCOMP(t-4)',\n",
       " 'OIL_W(t-4)',\n",
       " 'PPI_US(t-4)',\n",
       " 'PPI_KR(t-4)',\n",
       " 'IIP_JP(t-4)',\n",
       " 'IIP_RU(t-4)',\n",
       " 'IIP(t-4)',\n",
       " 'SHIP_IDX(t-4)',\n",
       " 'STOCK_IDX(t-4)',\n",
       " 'CLI(t-4)',\n",
       " 'CCI(t-4)',\n",
       " 'LCI(t-4)',\n",
       " 'Employ(t-4)',\n",
       " 'Sprate(t-4)',\n",
       " 'EFFR_US(t-4)']"
      ]
     },
     "execution_count": 29,
     "metadata": {},
     "output_type": "execute_result"
    }
   ],
   "source": [
    "accept"
   ]
  },
  {
   "cell_type": "code",
   "execution_count": 39,
   "id": "fa18629b",
   "metadata": {},
   "outputs": [
    {
     "data": {
      "text/html": [
       "<div>\n",
       "<style scoped>\n",
       "    .dataframe tbody tr th:only-of-type {\n",
       "        vertical-align: middle;\n",
       "    }\n",
       "\n",
       "    .dataframe tbody tr th {\n",
       "        vertical-align: top;\n",
       "    }\n",
       "\n",
       "    .dataframe thead th {\n",
       "        text-align: right;\n",
       "    }\n",
       "</style>\n",
       "<table border=\"1\" class=\"dataframe\">\n",
       "  <thead>\n",
       "    <tr style=\"text-align: right;\">\n",
       "      <th></th>\n",
       "      <th>OIL_D(t-4)</th>\n",
       "      <th>OIL_B(t-4)</th>\n",
       "      <th>GOLD(t-4)</th>\n",
       "      <th>NIKEL(t-4)</th>\n",
       "      <th>WHEAT(t-4)</th>\n",
       "      <th>COPP(t-4)</th>\n",
       "      <th>ALMN(t-4)</th>\n",
       "      <th>COTT(t-4)</th>\n",
       "      <th>STI(t-4)</th>\n",
       "      <th>SHCOMP(t-4)</th>\n",
       "      <th>...</th>\n",
       "      <th>IIP_RU(t-4)</th>\n",
       "      <th>IIP(t-4)</th>\n",
       "      <th>SHIP_IDX(t-4)</th>\n",
       "      <th>STOCK_IDX(t-4)</th>\n",
       "      <th>CLI(t-4)</th>\n",
       "      <th>CCI(t-4)</th>\n",
       "      <th>LCI(t-4)</th>\n",
       "      <th>Employ(t-4)</th>\n",
       "      <th>Sprate(t-4)</th>\n",
       "      <th>EFFR_US(t-4)</th>\n",
       "    </tr>\n",
       "  </thead>\n",
       "  <tbody>\n",
       "    <tr>\n",
       "      <th>0</th>\n",
       "      <td>78.89</td>\n",
       "      <td>81.31</td>\n",
       "      <td>1990.0</td>\n",
       "      <td>24211</td>\n",
       "      <td>619.75</td>\n",
       "      <td>8577</td>\n",
       "      <td>2368.0</td>\n",
       "      <td>79.03</td>\n",
       "      <td>3270.51</td>\n",
       "      <td>3323.28</td>\n",
       "      <td>...</td>\n",
       "      <td>NaN</td>\n",
       "      <td>109.5</td>\n",
       "      <td>98.2</td>\n",
       "      <td>124.5</td>\n",
       "      <td>109.4</td>\n",
       "      <td>110</td>\n",
       "      <td>113.4</td>\n",
       "      <td>28432</td>\n",
       "      <td>NaN</td>\n",
       "      <td>4.83</td>\n",
       "    </tr>\n",
       "  </tbody>\n",
       "</table>\n",
       "<p>1 rows × 24 columns</p>\n",
       "</div>"
      ],
      "text/plain": [
       "   OIL_D(t-4)  OIL_B(t-4)  GOLD(t-4)  NIKEL(t-4)  WHEAT(t-4)  COPP(t-4)  \\\n",
       "0       78.89       81.31     1990.0       24211      619.75       8577   \n",
       "\n",
       "   ALMN(t-4)  COTT(t-4)  STI(t-4)  SHCOMP(t-4)  ...  IIP_RU(t-4)  IIP(t-4)  \\\n",
       "0     2368.0      79.03   3270.51      3323.28  ...          NaN     109.5   \n",
       "\n",
       "   SHIP_IDX(t-4)  STOCK_IDX(t-4)  CLI(t-4)  CCI(t-4)  LCI(t-4)  Employ(t-4)  \\\n",
       "0           98.2           124.5     109.4       110     113.4        28432   \n",
       "\n",
       "   Sprate(t-4)  EFFR_US(t-4)  \n",
       "0          NaN          4.83  \n",
       "\n",
       "[1 rows x 24 columns]"
      ]
     },
     "execution_count": 39,
     "metadata": {},
     "output_type": "execute_result"
    }
   ],
   "source": [
    "dapr = pd.read_csv(\"ttApril.csv\", thousands=',')\n",
    "dapr"
   ]
  },
  {
   "cell_type": "code",
   "execution_count": 42,
   "id": "97de0046",
   "metadata": {},
   "outputs": [
    {
     "data": {
      "text/plain": [
       "array([18.490917], dtype=float32)"
      ]
     },
     "execution_count": 42,
     "metadata": {},
     "output_type": "execute_result"
    }
   ],
   "source": [
    "preds = ln_XG.predict(dapr)\n",
    "preds"
   ]
  },
  {
   "cell_type": "code",
   "execution_count": null,
   "id": "161ff671",
   "metadata": {},
   "outputs": [],
   "source": []
  }
 ],
 "metadata": {
  "kernelspec": {
   "display_name": "Python 3 (ipykernel)",
   "language": "python",
   "name": "python3"
  },
  "language_info": {
   "codemirror_mode": {
    "name": "ipython",
    "version": 3
   },
   "file_extension": ".py",
   "mimetype": "text/x-python",
   "name": "python",
   "nbconvert_exporter": "python",
   "pygments_lexer": "ipython3",
   "version": "3.9.13"
  }
 },
 "nbformat": 4,
 "nbformat_minor": 5
}
